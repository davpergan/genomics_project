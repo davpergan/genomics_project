{
 "cells": [
  {
   "cell_type": "markdown",
   "metadata": {},
   "source": [
    "Question 1.1"
   ]
  },
  {
   "cell_type": "code",
   "execution_count": 1,
   "metadata": {
    "jupyter": {
     "outputs_hidden": true
    }
   },
   "outputs": [
    {
     "name": "stderr",
     "output_type": "stream",
     "text": [
      "Installation du package dans 'C:/Users/David/AppData/Roaming/SPB_Data/R/win-library/4.1'\n",
      "(car 'lib' n'est pas spécifié)\n",
      "\n"
     ]
    },
    {
     "name": "stdout",
     "output_type": "stream",
     "text": [
      "package 'readr' successfully unpacked and MD5 sums checked\n"
     ]
    },
    {
     "name": "stderr",
     "output_type": "stream",
     "text": [
      "Warning message:\n",
      "\"cannot remove prior installation of package 'readr'\"\n",
      "Warning message in file.copy(savedcopy, lib, recursive = TRUE):\n",
      "\"problème lors de la copie de C:\\Users\\David\\AppData\\Roaming\\SPB_Data\\R\\win-library\\4.1\\00LOCK\\readr\\libs\\x64\\readr.dll vers C:\\Users\\David\\AppData\\Roaming\\SPB_Data\\R\\win-library\\4.1\\readr\\libs\\x64\\readr.dll: Permission denied\"\n",
      "Warning message:\n",
      "\"restored 'readr'\"\n"
     ]
    },
    {
     "name": "stdout",
     "output_type": "stream",
     "text": [
      "\n",
      "The downloaded binary packages are in\n",
      "\tC:\\Users\\David\\AppData\\Local\\Temp\\RtmpeSf9HQ\\downloaded_packages\n"
     ]
    },
    {
     "name": "stderr",
     "output_type": "stream",
     "text": [
      "Skipping install of 'tigerstats' from a github remote, the SHA1 (17067f7e) has not changed since last install.\n",
      "  Use `force = TRUE` to force installation\n",
      "\n"
     ]
    }
   ],
   "source": [
    "install.packages(\"readr\")\n",
    "devtools::install_github(\"homerhanumat/tigerstats\",build_vignettes=TRUE)"
   ]
  },
  {
   "cell_type": "code",
   "execution_count": 2,
   "metadata": {},
   "outputs": [
    {
     "name": "stderr",
     "output_type": "stream",
     "text": [
      "Le chargement a nécessité le package : abd\n",
      "\n",
      "Le chargement a nécessité le package : nlme\n",
      "\n",
      "Le chargement a nécessité le package : lattice\n",
      "\n",
      "Le chargement a nécessité le package : grid\n",
      "\n",
      "Le chargement a nécessité le package : mosaic\n",
      "\n",
      "Registered S3 method overwritten by 'mosaic':\n",
      "  method                           from   \n",
      "  fortify.SpatialPolygonsDataFrame ggplot2\n",
      "\n",
      "\n",
      "The 'mosaic' package masks several functions from core packages in order to add \n",
      "additional features.  The original behavior of these functions should not be affected by this.\n",
      "\n",
      "\n",
      "Attachement du package : 'mosaic'\n",
      "\n",
      "\n",
      "Les objets suivants sont masqués depuis 'package:dplyr':\n",
      "\n",
      "    count, do, tally\n",
      "\n",
      "\n",
      "L'objet suivant est masqué depuis 'package:Matrix':\n",
      "\n",
      "    mean\n",
      "\n",
      "\n",
      "L'objet suivant est masqué depuis 'package:ggplot2':\n",
      "\n",
      "    stat\n",
      "\n",
      "\n",
      "Les objets suivants sont masqués depuis 'package:stats':\n",
      "\n",
      "    binom.test, cor, cor.test, cov, fivenum, IQR, median, prop.test,\n",
      "    quantile, sd, t.test, var\n",
      "\n",
      "\n",
      "Les objets suivants sont masqués depuis 'package:base':\n",
      "\n",
      "    max, mean, min, prod, range, sample, sum\n",
      "\n",
      "\n",
      "Welcome to tigerstats!\n",
      "To learn more about this package, consult its website:\n",
      "\thttp://homerhanumat.github.io/tigerstats\n",
      "\n"
     ]
    }
   ],
   "source": [
    "library(readr)\n",
    "library(tigerstats)"
   ]
  },
  {
   "cell_type": "code",
   "execution_count": 3,
   "metadata": {
    "jupyter": {
     "outputs_hidden": true
    }
   },
   "outputs": [
    {
     "name": "stderr",
     "output_type": "stream",
     "text": [
      "\u001b[1mRows: \u001b[22m\u001b[34m136\u001b[39m \u001b[1mColumns: \u001b[22m\u001b[34m12\u001b[39m\n",
      "\u001b[36m--\u001b[39m \u001b[1mColumn specification\u001b[22m \u001b[36m------------------------------------------------------------------------------------------------\u001b[39m\n",
      "\u001b[1mDelimiter:\u001b[22m \"\\t\"\n",
      "\u001b[31mchr\u001b[39m (5): SMPLID, SMPTHNTS, COHORT, SUBJID, IMGURL\n",
      "\u001b[32mdbl\u001b[39m (7): SEX, AGE, HGHT, WGHT, BMI, TRISCHD, DTHHRDY\n",
      "\n",
      "\u001b[36mi\u001b[39m Use `spec()` to retrieve the full column specification for this data.\n",
      "\u001b[36mi\u001b[39m Specify the column types or set `show_col_types = FALSE` to quiet this message.\n"
     ]
    },
    {
     "data": {
      "text/plain": [
       "cols(\n",
       "  SMPLID = \u001b[31mcol_character()\u001b[39m,\n",
       "  SEX = \u001b[32mcol_double()\u001b[39m,\n",
       "  AGE = \u001b[32mcol_double()\u001b[39m,\n",
       "  HGHT = \u001b[32mcol_double()\u001b[39m,\n",
       "  WGHT = \u001b[32mcol_double()\u001b[39m,\n",
       "  BMI = \u001b[32mcol_double()\u001b[39m,\n",
       "  SMPTHNTS = \u001b[31mcol_character()\u001b[39m,\n",
       "  COHORT = \u001b[31mcol_character()\u001b[39m,\n",
       "  TRISCHD = \u001b[32mcol_double()\u001b[39m,\n",
       "  DTHHRDY = \u001b[32mcol_double()\u001b[39m,\n",
       "  SUBJID = \u001b[31mcol_character()\u001b[39m,\n",
       "  IMGURL = \u001b[31mcol_character()\u001b[39m\n",
       ")"
      ]
     },
     "metadata": {},
     "output_type": "display_data"
    },
    {
     "data": {
      "text/plain": [
       "    SMPLID               SEX            AGE             HGHT      \n",
       " Length:136         Min.   :1.00   Min.   :21.00   Min.   :58.00  \n",
       " Class :character   1st Qu.:1.00   1st Qu.:30.00   1st Qu.:66.00  \n",
       " Mode  :character   Median :1.00   Median :38.00   Median :68.00  \n",
       "                    Mean   :1.36   Mean   :37.53   Mean   :68.18  \n",
       "                    3rd Qu.:2.00   3rd Qu.:45.25   3rd Qu.:71.00  \n",
       "                    Max.   :2.00   Max.   :49.00   Max.   :76.00  \n",
       "      WGHT            BMI          SMPTHNTS            COHORT         \n",
       " Min.   : 92.0   Min.   :18.58   Length:136         Length:136        \n",
       " 1st Qu.:159.8   1st Qu.:24.27   Class :character   Class :character  \n",
       " Median :184.8   Median :27.75   Mode  :character   Mode  :character  \n",
       " Mean   :182.9   Mean   :27.55                                        \n",
       " 3rd Qu.:205.2   3rd Qu.:31.07                                        \n",
       " Max.   :264.0   Max.   :34.86                                        \n",
       "    TRISCHD          DTHHRDY          SUBJID             IMGURL         \n",
       " Min.   :  15.0   Min.   :0.0000   Length:136         Length:136        \n",
       " 1st Qu.:  61.5   1st Qu.:0.0000   Class :character   Class :character  \n",
       " Median : 209.0   Median :0.0000   Mode  :character   Mode  :character  \n",
       " Mean   : 382.6   Mean   :0.5368                                        \n",
       " 3rd Qu.: 474.2   3rd Qu.:0.0000                                        \n",
       " Max.   :1641.0   Max.   :4.0000                                        "
      ]
     },
     "metadata": {},
     "output_type": "display_data"
    }
   ],
   "source": [
    "cd <- read_tsv(\"clinical-data.tsv\") \n",
    "spec(cd)\n",
    "summary(cd)\n"
   ]
  },
  {
   "cell_type": "code",
   "execution_count": 4,
   "metadata": {},
   "outputs": [
    {
     "data": {
      "image/png": "[encoded data removed]",
      "text/plain": [
       "Plot with title \"sex\""
      ]
     },
     "metadata": {
      "image/png": {
       "height": 420,
       "width": 420
      }
     },
     "output_type": "display_data"
    }
   ],
   "source": [
    "barplot(prop.table(table(data.frame(cd$SEX))), main=\"sex\", names.arg=c(\"male\",\"female\"))"
   ]
  },
  {
   "cell_type": "code",
   "execution_count": 20,
   "metadata": {},
   "outputs": [
    {
     "data": {
      "text/html": [
       "<table class=\"dataframe\">\n",
       "<caption>A data.frame: 1 × 9</caption>\n",
       "<thead>\n",
       "\t<tr><th></th><th scope=col>min</th><th scope=col>Q1</th><th scope=col>median</th><th scope=col>Q3</th><th scope=col>max</th><th scope=col>mean</th><th scope=col>sd</th><th scope=col>n</th><th scope=col>missing</th></tr>\n",
       "\t<tr><th></th><th scope=col>&lt;dbl&gt;</th><th scope=col>&lt;dbl&gt;</th><th scope=col>&lt;dbl&gt;</th><th scope=col>&lt;dbl&gt;</th><th scope=col>&lt;dbl&gt;</th><th scope=col>&lt;dbl&gt;</th><th scope=col>&lt;dbl&gt;</th><th scope=col>&lt;int&gt;</th><th scope=col>&lt;int&gt;</th></tr>\n",
       "</thead>\n",
       "<tbody>\n",
       "\t<tr><th scope=row></th><td>21</td><td>30</td><td>38</td><td>45.25</td><td>49</td><td>37.52941</td><td>8.611741</td><td>136</td><td>0</td></tr>\n",
       "</tbody>\n",
       "</table>\n"
      ],
      "text/latex": [
       "A data.frame: 1 × 9\n",
       "\\begin{tabular}{r|lllllllll}\n",
       "  & min & Q1 & median & Q3 & max & mean & sd & n & missing\\\\\n",
       "  & <dbl> & <dbl> & <dbl> & <dbl> & <dbl> & <dbl> & <dbl> & <int> & <int>\\\\\n",
       "\\hline\n",
       "\t & 21 & 30 & 38 & 45.25 & 49 & 37.52941 & 8.611741 & 136 & 0\\\\\n",
       "\\end{tabular}\n"
      ],
      "text/markdown": [
       "\n",
       "A data.frame: 1 × 9\n",
       "\n",
       "| <!--/--> | min &lt;dbl&gt; | Q1 &lt;dbl&gt; | median &lt;dbl&gt; | Q3 &lt;dbl&gt; | max &lt;dbl&gt; | mean &lt;dbl&gt; | sd &lt;dbl&gt; | n &lt;int&gt; | missing &lt;int&gt; |\n",
       "|---|---|---|---|---|---|---|---|---|---|\n",
       "| <!----> | 21 | 30 | 38 | 45.25 | 49 | 37.52941 | 8.611741 | 136 | 0 |\n",
       "\n"
      ],
      "text/plain": [
       " min Q1 median Q3    max mean     sd       n   missing\n",
       " 21  30 38     45.25 49  37.52941 8.611741 136 0      "
      ]
     },
     "metadata": {},
     "output_type": "display_data"
    },
    {
     "data": {
      "image/png": "[encoded data removed]",
      "text/plain": [
       "plot without title"
      ]
     },
     "metadata": {
      "image/png": {
       "height": 420,
       "width": 420
      }
     },
     "output_type": "display_data"
    }
   ],
   "source": [
    "histogram(data.frame(cd$AGE)[,1],main=\"Histogramme des ages\\n (par tranches de 5 ans)\", xlab=\"age\",breaks=6)\n",
    "favstats(data.frame(cd$AGE)[,1])"
   ]
  },
  {
   "cell_type": "code",
   "execution_count": 24,
   "metadata": {},
   "outputs": [
    {
     "data": {
      "text/html": [
       "<table class=\"dataframe\">\n",
       "<caption>A data.frame: 1 × 9</caption>\n",
       "<thead>\n",
       "\t<tr><th></th><th scope=col>min</th><th scope=col>Q1</th><th scope=col>median</th><th scope=col>Q3</th><th scope=col>max</th><th scope=col>mean</th><th scope=col>sd</th><th scope=col>n</th><th scope=col>missing</th></tr>\n",
       "\t<tr><th></th><th scope=col>&lt;dbl&gt;</th><th scope=col>&lt;dbl&gt;</th><th scope=col>&lt;dbl&gt;</th><th scope=col>&lt;dbl&gt;</th><th scope=col>&lt;dbl&gt;</th><th scope=col>&lt;dbl&gt;</th><th scope=col>&lt;dbl&gt;</th><th scope=col>&lt;int&gt;</th><th scope=col>&lt;int&gt;</th></tr>\n",
       "</thead>\n",
       "<tbody>\n",
       "\t<tr><th scope=row></th><td>58</td><td>66</td><td>68</td><td>71</td><td>76</td><td>68.18478</td><td>3.89909</td><td>136</td><td>0</td></tr>\n",
       "</tbody>\n",
       "</table>\n"
      ],
      "text/latex": [
       "A data.frame: 1 × 9\n",
       "\\begin{tabular}{r|lllllllll}\n",
       "  & min & Q1 & median & Q3 & max & mean & sd & n & missing\\\\\n",
       "  & <dbl> & <dbl> & <dbl> & <dbl> & <dbl> & <dbl> & <dbl> & <int> & <int>\\\\\n",
       "\\hline\n",
       "\t & 58 & 66 & 68 & 71 & 76 & 68.18478 & 3.89909 & 136 & 0\\\\\n",
       "\\end{tabular}\n"
      ],
      "text/markdown": [
       "\n",
       "A data.frame: 1 × 9\n",
       "\n",
       "| <!--/--> | min &lt;dbl&gt; | Q1 &lt;dbl&gt; | median &lt;dbl&gt; | Q3 &lt;dbl&gt; | max &lt;dbl&gt; | mean &lt;dbl&gt; | sd &lt;dbl&gt; | n &lt;int&gt; | missing &lt;int&gt; |\n",
       "|---|---|---|---|---|---|---|---|---|---|\n",
       "| <!----> | 58 | 66 | 68 | 71 | 76 | 68.18478 | 3.89909 | 136 | 0 |\n",
       "\n"
      ],
      "text/plain": [
       " min Q1 median Q3 max mean     sd      n   missing\n",
       " 58  66 68     71 76  68.18478 3.89909 136 0      "
      ]
     },
     "metadata": {},
     "output_type": "display_data"
    },
    {
     "data": {
      "image/png": "[encoded data removed]",
      "text/plain": [
       "plot without title"
      ]
     },
     "metadata": {
      "image/png": {
       "height": 420,
       "width": 420
      }
     },
     "output_type": "display_data"
    }
   ],
   "source": [
    "histogram(data.frame(cd$HGHT)[,1],main=\"Histogramme des tailles\\n (inches)\", xlab=\"tailles\",breaks=6)\n",
    "favstats(data.frame(cd$HGHT)[,1])"
   ]
  },
  {
   "cell_type": "code",
   "execution_count": 25,
   "metadata": {},
   "outputs": [
    {
     "data": {
      "text/html": [
       "<table class=\"dataframe\">\n",
       "<caption>A data.frame: 1 × 9</caption>\n",
       "<thead>\n",
       "\t<tr><th></th><th scope=col>min</th><th scope=col>Q1</th><th scope=col>median</th><th scope=col>Q3</th><th scope=col>max</th><th scope=col>mean</th><th scope=col>sd</th><th scope=col>n</th><th scope=col>missing</th></tr>\n",
       "\t<tr><th></th><th scope=col>&lt;dbl&gt;</th><th scope=col>&lt;dbl&gt;</th><th scope=col>&lt;dbl&gt;</th><th scope=col>&lt;dbl&gt;</th><th scope=col>&lt;dbl&gt;</th><th scope=col>&lt;dbl&gt;</th><th scope=col>&lt;dbl&gt;</th><th scope=col>&lt;int&gt;</th><th scope=col>&lt;int&gt;</th></tr>\n",
       "</thead>\n",
       "<tbody>\n",
       "\t<tr><th scope=row></th><td>92</td><td>159.75</td><td>184.8</td><td>205.25</td><td>264</td><td>182.9454</td><td>33.58838</td><td>136</td><td>0</td></tr>\n",
       "</tbody>\n",
       "</table>\n"
      ],
      "text/latex": [
       "A data.frame: 1 × 9\n",
       "\\begin{tabular}{r|lllllllll}\n",
       "  & min & Q1 & median & Q3 & max & mean & sd & n & missing\\\\\n",
       "  & <dbl> & <dbl> & <dbl> & <dbl> & <dbl> & <dbl> & <dbl> & <int> & <int>\\\\\n",
       "\\hline\n",
       "\t & 92 & 159.75 & 184.8 & 205.25 & 264 & 182.9454 & 33.58838 & 136 & 0\\\\\n",
       "\\end{tabular}\n"
      ],
      "text/markdown": [
       "\n",
       "A data.frame: 1 × 9\n",
       "\n",
       "| <!--/--> | min &lt;dbl&gt; | Q1 &lt;dbl&gt; | median &lt;dbl&gt; | Q3 &lt;dbl&gt; | max &lt;dbl&gt; | mean &lt;dbl&gt; | sd &lt;dbl&gt; | n &lt;int&gt; | missing &lt;int&gt; |\n",
       "|---|---|---|---|---|---|---|---|---|---|\n",
       "| <!----> | 92 | 159.75 | 184.8 | 205.25 | 264 | 182.9454 | 33.58838 | 136 | 0 |\n",
       "\n"
      ],
      "text/plain": [
       " min Q1     median Q3     max mean     sd       n   missing\n",
       " 92  159.75 184.8  205.25 264 182.9454 33.58838 136 0      "
      ]
     },
     "metadata": {},
     "output_type": "display_data"
    },
    {
     "data": {
      "image/png": "[encoded data removed]",
      "text/plain": [
       "plot without title"
      ]
     },
     "metadata": {
      "image/png": {
       "height": 420,
       "width": 420
      }
     },
     "output_type": "display_data"
    }
   ],
   "source": [
    "histogram(data.frame(cd$WGHT)[,1],main=\"Histogramme des poids\\n (pounds) \", xlab=\"poids\")\n",
    "favstats(data.frame(cd$WGHT)[,1])"
   ]
  },
  {
   "cell_type": "code",
   "execution_count": 17,
   "metadata": {},
   "outputs": [
    {
     "data": {
      "text/html": [
       "<table class=\"dataframe\">\n",
       "<caption>A data.frame: 1 × 9</caption>\n",
       "<thead>\n",
       "\t<tr><th></th><th scope=col>min</th><th scope=col>Q1</th><th scope=col>median</th><th scope=col>Q3</th><th scope=col>max</th><th scope=col>mean</th><th scope=col>sd</th><th scope=col>n</th><th scope=col>missing</th></tr>\n",
       "\t<tr><th></th><th scope=col>&lt;dbl&gt;</th><th scope=col>&lt;dbl&gt;</th><th scope=col>&lt;dbl&gt;</th><th scope=col>&lt;dbl&gt;</th><th scope=col>&lt;dbl&gt;</th><th scope=col>&lt;dbl&gt;</th><th scope=col>&lt;dbl&gt;</th><th scope=col>&lt;int&gt;</th><th scope=col>&lt;int&gt;</th></tr>\n",
       "</thead>\n",
       "<tbody>\n",
       "\t<tr><th scope=row></th><td>18.58</td><td>24.2675</td><td>27.75</td><td>31.0725</td><td>34.86</td><td>27.55471</td><td>3.925531</td><td>136</td><td>0</td></tr>\n",
       "</tbody>\n",
       "</table>\n"
      ],
      "text/latex": [
       "A data.frame: 1 × 9\n",
       "\\begin{tabular}{r|lllllllll}\n",
       "  & min & Q1 & median & Q3 & max & mean & sd & n & missing\\\\\n",
       "  & <dbl> & <dbl> & <dbl> & <dbl> & <dbl> & <dbl> & <dbl> & <int> & <int>\\\\\n",
       "\\hline\n",
       "\t & 18.58 & 24.2675 & 27.75 & 31.0725 & 34.86 & 27.55471 & 3.925531 & 136 & 0\\\\\n",
       "\\end{tabular}\n"
      ],
      "text/markdown": [
       "\n",
       "A data.frame: 1 × 9\n",
       "\n",
       "| <!--/--> | min &lt;dbl&gt; | Q1 &lt;dbl&gt; | median &lt;dbl&gt; | Q3 &lt;dbl&gt; | max &lt;dbl&gt; | mean &lt;dbl&gt; | sd &lt;dbl&gt; | n &lt;int&gt; | missing &lt;int&gt; |\n",
       "|---|---|---|---|---|---|---|---|---|---|\n",
       "| <!----> | 18.58 | 24.2675 | 27.75 | 31.0725 | 34.86 | 27.55471 | 3.925531 | 136 | 0 |\n",
       "\n"
      ],
      "text/plain": [
       " min   Q1      median Q3      max   mean     sd       n   missing\n",
       " 18.58 24.2675 27.75  31.0725 34.86 27.55471 3.925531 136 0      "
      ]
     },
     "metadata": {},
     "output_type": "display_data"
    },
    {
     "data": {
      "image/png": "[encoded data removed]",
      "text/plain": [
       "plot without title"
      ]
     },
     "metadata": {
      "image/png": {
       "height": 420,
       "width": 420
      }
     },
     "output_type": "display_data"
    }
   ],
   "source": [
    "histogram(data.frame(cd$BMI)[,1],main=\"Histogramme des indices \\n de masse corporelle \", xlab=\"bmi\")\n",
    "favstats(data.frame(cd$BMI)[,1])"
   ]
  },
  {
   "cell_type": "code",
   "execution_count": 15,
   "metadata": {},
   "outputs": [
    {
     "data": {
      "image/png": "[encoded data removed]",
      "text/plain": [
       "Plot with title \"cohort\""
      ]
     },
     "metadata": {
      "image/png": {
       "height": 420,
       "width": 420
      }
     },
     "output_type": "display_data"
    }
   ],
   "source": [
    "barplot(prop.table(table(data.frame(cd$COHORT))), main=\"cohort\")"
   ]
  },
  {
   "cell_type": "code",
   "execution_count": 26,
   "metadata": {},
   "outputs": [
    {
     "data": {
      "text/html": [
       "<table class=\"dataframe\">\n",
       "<caption>A data.frame: 1 × 9</caption>\n",
       "<thead>\n",
       "\t<tr><th></th><th scope=col>min</th><th scope=col>Q1</th><th scope=col>median</th><th scope=col>Q3</th><th scope=col>max</th><th scope=col>mean</th><th scope=col>sd</th><th scope=col>n</th><th scope=col>missing</th></tr>\n",
       "\t<tr><th></th><th scope=col>&lt;dbl&gt;</th><th scope=col>&lt;dbl&gt;</th><th scope=col>&lt;dbl&gt;</th><th scope=col>&lt;dbl&gt;</th><th scope=col>&lt;dbl&gt;</th><th scope=col>&lt;dbl&gt;</th><th scope=col>&lt;dbl&gt;</th><th scope=col>&lt;int&gt;</th><th scope=col>&lt;int&gt;</th></tr>\n",
       "</thead>\n",
       "<tbody>\n",
       "\t<tr><th scope=row></th><td>15</td><td>61.5</td><td>209</td><td>474.25</td><td>1641</td><td>382.5588</td><td>411.018</td><td>136</td><td>0</td></tr>\n",
       "</tbody>\n",
       "</table>\n"
      ],
      "text/latex": [
       "A data.frame: 1 × 9\n",
       "\\begin{tabular}{r|lllllllll}\n",
       "  & min & Q1 & median & Q3 & max & mean & sd & n & missing\\\\\n",
       "  & <dbl> & <dbl> & <dbl> & <dbl> & <dbl> & <dbl> & <dbl> & <int> & <int>\\\\\n",
       "\\hline\n",
       "\t & 15 & 61.5 & 209 & 474.25 & 1641 & 382.5588 & 411.018 & 136 & 0\\\\\n",
       "\\end{tabular}\n"
      ],
      "text/markdown": [
       "\n",
       "A data.frame: 1 × 9\n",
       "\n",
       "| <!--/--> | min &lt;dbl&gt; | Q1 &lt;dbl&gt; | median &lt;dbl&gt; | Q3 &lt;dbl&gt; | max &lt;dbl&gt; | mean &lt;dbl&gt; | sd &lt;dbl&gt; | n &lt;int&gt; | missing &lt;int&gt; |\n",
       "|---|---|---|---|---|---|---|---|---|---|\n",
       "| <!----> | 15 | 61.5 | 209 | 474.25 | 1641 | 382.5588 | 411.018 | 136 | 0 |\n",
       "\n"
      ],
      "text/plain": [
       " min Q1   median Q3     max  mean     sd      n   missing\n",
       " 15  61.5 209    474.25 1641 382.5588 411.018 136 0      "
      ]
     },
     "metadata": {},
     "output_type": "display_data"
    },
    {
     "data": {
      "image/png": "[encoded data removed]",
      "text/plain": [
       "plot without title"
      ]
     },
     "metadata": {
      "image/png": {
       "height": 420,
       "width": 420
      }
     },
     "output_type": "display_data"
    }
   ],
   "source": [
    "histogram(data.frame(cd$TRISCHD)[,1],main=\"Histogramme des \\n temps ischémiques \", xlab=\"ischemic time (minutes)\")\n",
    "favstats(data.frame(cd$TRISCHD)[,1])"
   ]
  },
  {
   "cell_type": "code",
   "execution_count": 23,
   "metadata": {},
   "outputs": [
    {
     "data": {
      "image/png": "[encoded data removed]",
      "text/plain": [
       "Plot with title \"Echelle de Hardy\""
      ]
     },
     "metadata": {
      "image/png": {
       "height": 420,
       "width": 420
      }
     },
     "output_type": "display_data"
    }
   ],
   "source": [
    "barplot(prop.table(table(data.frame(cd$DTHHRDY))), main=\"Echelle de Hardy\")"
   ]
  }
 ],
 "metadata": {
  "kernelspec": {
   "display_name": "R",
   "language": "R",
   "name": "ir"
  },
  "language_info": {
   "codemirror_mode": "r",
   "file_extension": ".r",
   "mimetype": "text/x-r-source",
   "name": "R",
   "pygments_lexer": "r",
   "version": "4.1.3"
  }
 },
 "nbformat": 4,
 "nbformat_minor": 4
}
