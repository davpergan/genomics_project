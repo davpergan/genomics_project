{
 "cells": [
  {
   "cell_type": "markdown",
   "metadata": {},
   "source": [
    "# Question 2"
   ]
  },
  {
   "cell_type": "code",
   "execution_count": null,
   "metadata": {},
   "outputs": [],
   "source": [
    "#imports\n",
    "library(readr)\n",
    "library(tigerstats)\n",
    "library(ggplot2)\n",
    "library(gridExtra)\n",
    "library(\"DESeq2\")\n",
    "library(\"vsn\")\n",
    "library(\"pheatmap\")\n",
    "library(\"RColorBrewer\")\n",
    "library(repr)"
   ]
  },
  {
   "cell_type": "code",
   "execution_count": 2,
   "metadata": {},
   "outputs": [
    {
     "name": "stderr",
     "output_type": "stream",
     "text": [
      "\u001b[1mRows: \u001b[22m\u001b[34m136\u001b[39m \u001b[1mColumns: \u001b[22m\u001b[34m12\u001b[39m\n",
      "\u001b[36m--\u001b[39m \u001b[1mColumn specification\u001b[22m \u001b[36m------------------------------------------------------------------------------------------------\u001b[39m\n",
      "\u001b[1mDelimiter:\u001b[22m \"\\t\"\n",
      "\u001b[31mchr\u001b[39m (5): SMPLID, SMPTHNTS, COHORT, SUBJID, IMGURL\n",
      "\u001b[32mdbl\u001b[39m (7): SEX, AGE, HGHT, WGHT, BMI, TRISCHD, DTHHRDY\n",
      "\n",
      "\u001b[36mi\u001b[39m Use `spec()` to retrieve the full column specification for this data.\n",
      "\u001b[36mi\u001b[39m Specify the column types or set `show_col_types = FALSE` to quiet this message.\n",
      "\u001b[1mRows: \u001b[22m\u001b[34m136\u001b[39m \u001b[1mColumns: \u001b[22m\u001b[34m65\u001b[39m\n",
      "\u001b[36m--\u001b[39m \u001b[1mColumn specification\u001b[22m \u001b[36m------------------------------------------------------------------------------------------------\u001b[39m\n",
      "\u001b[1mDelimiter:\u001b[22m \"\\t\"\n",
      "\u001b[31mchr\u001b[39m  (1): SMPLID\n",
      "\u001b[32mdbl\u001b[39m (64): Mophological.cluster.0, Mophological.cluster.1, Mophological.clust...\n",
      "\n",
      "\u001b[36mi\u001b[39m Use `spec()` to retrieve the full column specification for this data.\n",
      "\u001b[36mi\u001b[39m Specify the column types or set `show_col_types = FALSE` to quiet this message.\n"
     ]
    }
   ],
   "source": [
    "#load data\n",
    "cd <- read_tsv(\"clinical-data.tsv\") \n",
    "mc <- read_tsv(\"morphological-counts.tsv\")\n"
   ]
  },
  {
   "cell_type": "code",
   "execution_count": 3,
   "metadata": {},
   "outputs": [],
   "source": [
    "#normalisation pour les variables numériques et changement de type pour les variable catégorielles \n",
    "numerical_variables <- list('AGE', 'HGHT', 'WGHT', 'BMI', 'TRISCHD') \n",
    "categorical_variables <- list('SEX', 'COHORT', 'DTHHRDY')\n",
    "for (variable in numerical_variables){\n",
    "    cd[variable] <- scale(cd[variable])\n",
    "}\n",
    "for (variable in categorical_variables){\n",
    "    cd[variable] <- factor(cd[[variable]])\n",
    "}"
   ]
  },
  {
   "cell_type": "code",
   "execution_count": null,
   "metadata": {},
   "outputs": [],
   "source": [
    "cd"
   ]
  },
  {
   "cell_type": "markdown",
   "metadata": {},
   "source": [
    "## Pré-analyses"
   ]
  },
  {
   "cell_type": "markdown",
   "metadata": {},
   "source": [
    "### Corrélation moyenne-variance"
   ]
  },
  {
   "cell_type": "code",
   "execution_count": null,
   "metadata": {
    "scrolled": true
   },
   "outputs": [],
   "source": [
    "#Dans l'article sur DESseq2 ils parlent du fait qu'avec les rna counts on a une corrélation entre la moyenne de l'expression\n",
    "#d'un gêne et sa variance, et du coup il vaut mieux faire une normalisation, par exemple pour les pca etc. du coup je voulais\n",
    "#vérifier si c'est le cas aussi avec les cluster counts mais il semble que non\n",
    "#après, ça ne veut pas nécessairement dire qu'il ne faut pas quand même faire de normalisation \n",
    "\n",
    "means <- colMeans(mc_red)\n",
    "sdev <- sapply(mc_red, sd)\n",
    "\n",
    "plot(means, sdev)\n",
    "cor(means, sdev)"
   ]
  },
  {
   "cell_type": "code",
   "execution_count": null,
   "metadata": {},
   "outputs": [],
   "source": [
    "meanSdPlot(t(data.matrix(mc_red)), ranks=FALSE)"
   ]
  },
  {
   "cell_type": "code",
   "execution_count": null,
   "metadata": {},
   "outputs": [],
   "source": [
    "#par comparaison, faisons la même chose avec les rna counts\n",
    "rna =  read_tsv(\"RNA-read-counts.tsv\")\n",
    "rna\n",
    "meanSdPlot(t(data.matrix(rna)), ranks=FALSE)\n"
   ]
  },
  {
   "cell_type": "code",
   "execution_count": null,
   "metadata": {},
   "outputs": [],
   "source": [
    "mrna <- rna[,3:65]\n",
    "means <- colMeans(mrna)\n",
    "sdev <- sapply(mrna, sd)\n",
    "\n",
    "plot(means, sdev)\n",
    "cor(means, sdev)\n",
    "\n",
    "#on voit que la corrélation est beaucoup plus élevée"
   ]
  },
  {
   "cell_type": "markdown",
   "metadata": {},
   "source": [
    "### Création de l'objet DESeqDataSet"
   ]
  },
  {
   "cell_type": "code",
   "execution_count": null,
   "metadata": {},
   "outputs": [],
   "source": [
    "dds = DESeqDataSetFromMatrix(t(data.matrix(mc)),colData=cd, design = ~ AGE)\n"
   ]
  },
  {
   "cell_type": "markdown",
   "metadata": {},
   "source": [
    "### Sample distances"
   ]
  },
  {
   "cell_type": "code",
   "execution_count": null,
   "metadata": {},
   "outputs": [],
   "source": [
    "#pas encore sur de quoi faire avec ça mais je me disais qu'on pourrait peut-être faire quelque chose avec une matrice\n",
    "#des distances entre samples\n",
    "sampleDists <- dist(t(assay(dds)))\n",
    "sampleDists"
   ]
  },
  {
   "cell_type": "code",
   "execution_count": null,
   "metadata": {},
   "outputs": [],
   "source": [
    "sampleDistMatrix <- as.matrix( sampleDists )\n",
    "rownames(sampleDistMatrix) <- paste( cd$SMPLID )\n",
    "colnames(sampleDistMatrix) <- NULL\n",
    "colors <- colorRampPalette( rev(brewer.pal(9, \"Blues\")) )(255)\n",
    "options(repr.plot.width=16, repr.plot.height=16)\n",
    "pheatmap(sampleDistMatrix,\n",
    "         clustering_distance_rows = sampleDists,\n",
    "         clustering_distance_cols = sampleDists,\n",
    "         col = colors)"
   ]
  },
  {
   "cell_type": "markdown",
   "metadata": {},
   "source": [
    "### Corrélations des clusters morphologiques entre eux"
   ]
  },
  {
   "cell_type": "code",
   "execution_count": null,
   "metadata": {},
   "outputs": [],
   "source": [
    "corr <- cor(st_mc)\n",
    "corr <- abs(corr)\n",
    "corr[corr==1.0]<-0.0\n",
    "max(corr)\n",
    "#j'ai pas été loin dans l'analyse de la matrice de corrélation pour l'instant, mais avec une corrélation max de 0.88 on \n",
    "#pourrait éventuellement envisager d'éliminer les clusters les plus corrélés"
   ]
  },
  {
   "cell_type": "markdown",
   "metadata": {},
   "source": [
    "### PCA des clusters"
   ]
  },
  {
   "cell_type": "code",
   "execution_count": null,
   "metadata": {},
   "outputs": [],
   "source": [
    "pca = prcomp(st_mc)\n",
    "colors <- rep(\"black\", 136)\n",
    "colors[cd$SEX == 1] <- \"red\"\n",
    "plot(pca$x[, 1:2], col=colors)"
   ]
  },
  {
   "cell_type": "markdown",
   "metadata": {},
   "source": [
    "## Analyse de l'expression différentielle"
   ]
  },
  {
   "cell_type": "code",
   "execution_count": 4,
   "metadata": {},
   "outputs": [
    {
     "data": {
      "text/html": [
       "<table class=\"dataframe\">\n",
       "<caption>A data.frame: 8 × 64</caption>\n",
       "<thead>\n",
       "\t<tr><th></th><th scope=col>Mophological.cluster.0</th><th scope=col>Mophological.cluster.1</th><th scope=col>Mophological.cluster.2</th><th scope=col>Mophological.cluster.3</th><th scope=col>Mophological.cluster.4</th><th scope=col>Mophological.cluster.5</th><th scope=col>Mophological.cluster.6</th><th scope=col>Mophological.cluster.7</th><th scope=col>Mophological.cluster.8</th><th scope=col>Mophological.cluster.9</th><th scope=col>...</th><th scope=col>Mophological.cluster.54</th><th scope=col>Mophological.cluster.55</th><th scope=col>Mophological.cluster.56</th><th scope=col>Mophological.cluster.57</th><th scope=col>Mophological.cluster.58</th><th scope=col>Mophological.cluster.59</th><th scope=col>Mophological.cluster.60</th><th scope=col>Mophological.cluster.61</th><th scope=col>Mophological.cluster.62</th><th scope=col>Mophological.cluster.63</th></tr>\n",
       "\t<tr><th></th><th scope=col>&lt;lgl&gt;</th><th scope=col>&lt;lgl&gt;</th><th scope=col>&lt;lgl&gt;</th><th scope=col>&lt;lgl&gt;</th><th scope=col>&lt;lgl&gt;</th><th scope=col>&lt;lgl&gt;</th><th scope=col>&lt;lgl&gt;</th><th scope=col>&lt;lgl&gt;</th><th scope=col>&lt;lgl&gt;</th><th scope=col>&lt;lgl&gt;</th><th scope=col>...</th><th scope=col>&lt;lgl&gt;</th><th scope=col>&lt;lgl&gt;</th><th scope=col>&lt;lgl&gt;</th><th scope=col>&lt;lgl&gt;</th><th scope=col>&lt;lgl&gt;</th><th scope=col>&lt;lgl&gt;</th><th scope=col>&lt;lgl&gt;</th><th scope=col>&lt;lgl&gt;</th><th scope=col>&lt;lgl&gt;</th><th scope=col>&lt;lgl&gt;</th></tr>\n",
       "</thead>\n",
       "<tbody>\n",
       "\t<tr><th scope=row>SEX</th><td>FALSE</td><td>FALSE</td><td>FALSE</td><td>FALSE</td><td>FALSE</td><td>FALSE</td><td>FALSE</td><td>FALSE</td><td>FALSE</td><td>FALSE</td><td>...</td><td>FALSE</td><td>FALSE</td><td>FALSE</td><td>FALSE</td><td>FALSE</td><td>FALSE</td><td>FALSE</td><td>FALSE</td><td>FALSE</td><td>FALSE</td></tr>\n",
       "\t<tr><th scope=row>AGE</th><td>FALSE</td><td>FALSE</td><td>FALSE</td><td>FALSE</td><td>FALSE</td><td>FALSE</td><td>FALSE</td><td>FALSE</td><td>FALSE</td><td>FALSE</td><td>...</td><td>FALSE</td><td>FALSE</td><td>FALSE</td><td>FALSE</td><td>FALSE</td><td>FALSE</td><td>FALSE</td><td>FALSE</td><td>FALSE</td><td>FALSE</td></tr>\n",
       "\t<tr><th scope=row>HGHT</th><td>FALSE</td><td>FALSE</td><td>FALSE</td><td>FALSE</td><td>FALSE</td><td>FALSE</td><td>FALSE</td><td>FALSE</td><td>FALSE</td><td>FALSE</td><td>...</td><td>FALSE</td><td>FALSE</td><td>FALSE</td><td>FALSE</td><td>FALSE</td><td>FALSE</td><td>FALSE</td><td>FALSE</td><td>FALSE</td><td>FALSE</td></tr>\n",
       "\t<tr><th scope=row>WGHT</th><td>FALSE</td><td>FALSE</td><td>FALSE</td><td>FALSE</td><td>FALSE</td><td>FALSE</td><td>FALSE</td><td>FALSE</td><td>FALSE</td><td>FALSE</td><td>...</td><td>FALSE</td><td>FALSE</td><td>FALSE</td><td>FALSE</td><td>FALSE</td><td>FALSE</td><td>FALSE</td><td>FALSE</td><td>FALSE</td><td>FALSE</td></tr>\n",
       "\t<tr><th scope=row>BMI</th><td>FALSE</td><td>FALSE</td><td>FALSE</td><td>FALSE</td><td>FALSE</td><td>FALSE</td><td>FALSE</td><td>FALSE</td><td>FALSE</td><td>FALSE</td><td>...</td><td>FALSE</td><td>FALSE</td><td>FALSE</td><td>FALSE</td><td>FALSE</td><td>FALSE</td><td>FALSE</td><td>FALSE</td><td>FALSE</td><td>FALSE</td></tr>\n",
       "\t<tr><th scope=row>COHORT</th><td>FALSE</td><td>FALSE</td><td>FALSE</td><td>FALSE</td><td>FALSE</td><td>FALSE</td><td>FALSE</td><td>FALSE</td><td>FALSE</td><td>FALSE</td><td>...</td><td>FALSE</td><td>FALSE</td><td>FALSE</td><td>FALSE</td><td>FALSE</td><td>FALSE</td><td>FALSE</td><td>FALSE</td><td>FALSE</td><td>FALSE</td></tr>\n",
       "\t<tr><th scope=row>TRISCHD</th><td>FALSE</td><td>FALSE</td><td>FALSE</td><td>FALSE</td><td>FALSE</td><td>FALSE</td><td>FALSE</td><td>FALSE</td><td>FALSE</td><td>FALSE</td><td>...</td><td>FALSE</td><td>FALSE</td><td>FALSE</td><td>FALSE</td><td>FALSE</td><td>FALSE</td><td>FALSE</td><td>FALSE</td><td>FALSE</td><td>FALSE</td></tr>\n",
       "\t<tr><th scope=row>DTHHRDY</th><td>FALSE</td><td>FALSE</td><td>FALSE</td><td>FALSE</td><td>FALSE</td><td>FALSE</td><td>FALSE</td><td>FALSE</td><td>FALSE</td><td>FALSE</td><td>...</td><td>FALSE</td><td>FALSE</td><td>FALSE</td><td>FALSE</td><td>FALSE</td><td>FALSE</td><td>FALSE</td><td>FALSE</td><td>FALSE</td><td>FALSE</td></tr>\n",
       "</tbody>\n",
       "</table>\n"
      ],
      "text/latex": [
       "A data.frame: 8 × 64\n",
       "\\begin{tabular}{r|lllllllllllllllllllll}\n",
       "  & Mophological.cluster.0 & Mophological.cluster.1 & Mophological.cluster.2 & Mophological.cluster.3 & Mophological.cluster.4 & Mophological.cluster.5 & Mophological.cluster.6 & Mophological.cluster.7 & Mophological.cluster.8 & Mophological.cluster.9 & ... & Mophological.cluster.54 & Mophological.cluster.55 & Mophological.cluster.56 & Mophological.cluster.57 & Mophological.cluster.58 & Mophological.cluster.59 & Mophological.cluster.60 & Mophological.cluster.61 & Mophological.cluster.62 & Mophological.cluster.63\\\\\n",
       "  & <lgl> & <lgl> & <lgl> & <lgl> & <lgl> & <lgl> & <lgl> & <lgl> & <lgl> & <lgl> & ... & <lgl> & <lgl> & <lgl> & <lgl> & <lgl> & <lgl> & <lgl> & <lgl> & <lgl> & <lgl>\\\\\n",
       "\\hline\n",
       "\tSEX & FALSE & FALSE & FALSE & FALSE & FALSE & FALSE & FALSE & FALSE & FALSE & FALSE & ... & FALSE & FALSE & FALSE & FALSE & FALSE & FALSE & FALSE & FALSE & FALSE & FALSE\\\\\n",
       "\tAGE & FALSE & FALSE & FALSE & FALSE & FALSE & FALSE & FALSE & FALSE & FALSE & FALSE & ... & FALSE & FALSE & FALSE & FALSE & FALSE & FALSE & FALSE & FALSE & FALSE & FALSE\\\\\n",
       "\tHGHT & FALSE & FALSE & FALSE & FALSE & FALSE & FALSE & FALSE & FALSE & FALSE & FALSE & ... & FALSE & FALSE & FALSE & FALSE & FALSE & FALSE & FALSE & FALSE & FALSE & FALSE\\\\\n",
       "\tWGHT & FALSE & FALSE & FALSE & FALSE & FALSE & FALSE & FALSE & FALSE & FALSE & FALSE & ... & FALSE & FALSE & FALSE & FALSE & FALSE & FALSE & FALSE & FALSE & FALSE & FALSE\\\\\n",
       "\tBMI & FALSE & FALSE & FALSE & FALSE & FALSE & FALSE & FALSE & FALSE & FALSE & FALSE & ... & FALSE & FALSE & FALSE & FALSE & FALSE & FALSE & FALSE & FALSE & FALSE & FALSE\\\\\n",
       "\tCOHORT & FALSE & FALSE & FALSE & FALSE & FALSE & FALSE & FALSE & FALSE & FALSE & FALSE & ... & FALSE & FALSE & FALSE & FALSE & FALSE & FALSE & FALSE & FALSE & FALSE & FALSE\\\\\n",
       "\tTRISCHD & FALSE & FALSE & FALSE & FALSE & FALSE & FALSE & FALSE & FALSE & FALSE & FALSE & ... & FALSE & FALSE & FALSE & FALSE & FALSE & FALSE & FALSE & FALSE & FALSE & FALSE\\\\\n",
       "\tDTHHRDY & FALSE & FALSE & FALSE & FALSE & FALSE & FALSE & FALSE & FALSE & FALSE & FALSE & ... & FALSE & FALSE & FALSE & FALSE & FALSE & FALSE & FALSE & FALSE & FALSE & FALSE\\\\\n",
       "\\end{tabular}\n"
      ],
      "text/markdown": [
       "\n",
       "A data.frame: 8 × 64\n",
       "\n",
       "| <!--/--> | Mophological.cluster.0 &lt;lgl&gt; | Mophological.cluster.1 &lt;lgl&gt; | Mophological.cluster.2 &lt;lgl&gt; | Mophological.cluster.3 &lt;lgl&gt; | Mophological.cluster.4 &lt;lgl&gt; | Mophological.cluster.5 &lt;lgl&gt; | Mophological.cluster.6 &lt;lgl&gt; | Mophological.cluster.7 &lt;lgl&gt; | Mophological.cluster.8 &lt;lgl&gt; | Mophological.cluster.9 &lt;lgl&gt; | ... ... | Mophological.cluster.54 &lt;lgl&gt; | Mophological.cluster.55 &lt;lgl&gt; | Mophological.cluster.56 &lt;lgl&gt; | Mophological.cluster.57 &lt;lgl&gt; | Mophological.cluster.58 &lt;lgl&gt; | Mophological.cluster.59 &lt;lgl&gt; | Mophological.cluster.60 &lt;lgl&gt; | Mophological.cluster.61 &lt;lgl&gt; | Mophological.cluster.62 &lt;lgl&gt; | Mophological.cluster.63 &lt;lgl&gt; |\n",
       "|---|---|---|---|---|---|---|---|---|---|---|---|---|---|---|---|---|---|---|---|---|---|\n",
       "| SEX | FALSE | FALSE | FALSE | FALSE | FALSE | FALSE | FALSE | FALSE | FALSE | FALSE | ... | FALSE | FALSE | FALSE | FALSE | FALSE | FALSE | FALSE | FALSE | FALSE | FALSE |\n",
       "| AGE | FALSE | FALSE | FALSE | FALSE | FALSE | FALSE | FALSE | FALSE | FALSE | FALSE | ... | FALSE | FALSE | FALSE | FALSE | FALSE | FALSE | FALSE | FALSE | FALSE | FALSE |\n",
       "| HGHT | FALSE | FALSE | FALSE | FALSE | FALSE | FALSE | FALSE | FALSE | FALSE | FALSE | ... | FALSE | FALSE | FALSE | FALSE | FALSE | FALSE | FALSE | FALSE | FALSE | FALSE |\n",
       "| WGHT | FALSE | FALSE | FALSE | FALSE | FALSE | FALSE | FALSE | FALSE | FALSE | FALSE | ... | FALSE | FALSE | FALSE | FALSE | FALSE | FALSE | FALSE | FALSE | FALSE | FALSE |\n",
       "| BMI | FALSE | FALSE | FALSE | FALSE | FALSE | FALSE | FALSE | FALSE | FALSE | FALSE | ... | FALSE | FALSE | FALSE | FALSE | FALSE | FALSE | FALSE | FALSE | FALSE | FALSE |\n",
       "| COHORT | FALSE | FALSE | FALSE | FALSE | FALSE | FALSE | FALSE | FALSE | FALSE | FALSE | ... | FALSE | FALSE | FALSE | FALSE | FALSE | FALSE | FALSE | FALSE | FALSE | FALSE |\n",
       "| TRISCHD | FALSE | FALSE | FALSE | FALSE | FALSE | FALSE | FALSE | FALSE | FALSE | FALSE | ... | FALSE | FALSE | FALSE | FALSE | FALSE | FALSE | FALSE | FALSE | FALSE | FALSE |\n",
       "| DTHHRDY | FALSE | FALSE | FALSE | FALSE | FALSE | FALSE | FALSE | FALSE | FALSE | FALSE | ... | FALSE | FALSE | FALSE | FALSE | FALSE | FALSE | FALSE | FALSE | FALSE | FALSE |\n",
       "\n"
      ],
      "text/plain": [
       "        Mophological.cluster.0 Mophological.cluster.1 Mophological.cluster.2\n",
       "SEX     FALSE                  FALSE                  FALSE                 \n",
       "AGE     FALSE                  FALSE                  FALSE                 \n",
       "HGHT    FALSE                  FALSE                  FALSE                 \n",
       "WGHT    FALSE                  FALSE                  FALSE                 \n",
       "BMI     FALSE                  FALSE                  FALSE                 \n",
       "COHORT  FALSE                  FALSE                  FALSE                 \n",
       "TRISCHD FALSE                  FALSE                  FALSE                 \n",
       "DTHHRDY FALSE                  FALSE                  FALSE                 \n",
       "        Mophological.cluster.3 Mophological.cluster.4 Mophological.cluster.5\n",
       "SEX     FALSE                  FALSE                  FALSE                 \n",
       "AGE     FALSE                  FALSE                  FALSE                 \n",
       "HGHT    FALSE                  FALSE                  FALSE                 \n",
       "WGHT    FALSE                  FALSE                  FALSE                 \n",
       "BMI     FALSE                  FALSE                  FALSE                 \n",
       "COHORT  FALSE                  FALSE                  FALSE                 \n",
       "TRISCHD FALSE                  FALSE                  FALSE                 \n",
       "DTHHRDY FALSE                  FALSE                  FALSE                 \n",
       "        Mophological.cluster.6 Mophological.cluster.7 Mophological.cluster.8\n",
       "SEX     FALSE                  FALSE                  FALSE                 \n",
       "AGE     FALSE                  FALSE                  FALSE                 \n",
       "HGHT    FALSE                  FALSE                  FALSE                 \n",
       "WGHT    FALSE                  FALSE                  FALSE                 \n",
       "BMI     FALSE                  FALSE                  FALSE                 \n",
       "COHORT  FALSE                  FALSE                  FALSE                 \n",
       "TRISCHD FALSE                  FALSE                  FALSE                 \n",
       "DTHHRDY FALSE                  FALSE                  FALSE                 \n",
       "        Mophological.cluster.9 ... Mophological.cluster.54\n",
       "SEX     FALSE                  ... FALSE                  \n",
       "AGE     FALSE                  ... FALSE                  \n",
       "HGHT    FALSE                  ... FALSE                  \n",
       "WGHT    FALSE                  ... FALSE                  \n",
       "BMI     FALSE                  ... FALSE                  \n",
       "COHORT  FALSE                  ... FALSE                  \n",
       "TRISCHD FALSE                  ... FALSE                  \n",
       "DTHHRDY FALSE                  ... FALSE                  \n",
       "        Mophological.cluster.55 Mophological.cluster.56 Mophological.cluster.57\n",
       "SEX     FALSE                   FALSE                   FALSE                  \n",
       "AGE     FALSE                   FALSE                   FALSE                  \n",
       "HGHT    FALSE                   FALSE                   FALSE                  \n",
       "WGHT    FALSE                   FALSE                   FALSE                  \n",
       "BMI     FALSE                   FALSE                   FALSE                  \n",
       "COHORT  FALSE                   FALSE                   FALSE                  \n",
       "TRISCHD FALSE                   FALSE                   FALSE                  \n",
       "DTHHRDY FALSE                   FALSE                   FALSE                  \n",
       "        Mophological.cluster.58 Mophological.cluster.59 Mophological.cluster.60\n",
       "SEX     FALSE                   FALSE                   FALSE                  \n",
       "AGE     FALSE                   FALSE                   FALSE                  \n",
       "HGHT    FALSE                   FALSE                   FALSE                  \n",
       "WGHT    FALSE                   FALSE                   FALSE                  \n",
       "BMI     FALSE                   FALSE                   FALSE                  \n",
       "COHORT  FALSE                   FALSE                   FALSE                  \n",
       "TRISCHD FALSE                   FALSE                   FALSE                  \n",
       "DTHHRDY FALSE                   FALSE                   FALSE                  \n",
       "        Mophological.cluster.61 Mophological.cluster.62 Mophological.cluster.63\n",
       "SEX     FALSE                   FALSE                   FALSE                  \n",
       "AGE     FALSE                   FALSE                   FALSE                  \n",
       "HGHT    FALSE                   FALSE                   FALSE                  \n",
       "WGHT    FALSE                   FALSE                   FALSE                  \n",
       "BMI     FALSE                   FALSE                   FALSE                  \n",
       "COHORT  FALSE                   FALSE                   FALSE                  \n",
       "TRISCHD FALSE                   FALSE                   FALSE                  \n",
       "DTHHRDY FALSE                   FALSE                   FALSE                  "
      ]
     },
     "metadata": {},
     "output_type": "display_data"
    }
   ],
   "source": [
    "#assoc_table va être une matrice ou on voit pour chaque variable quel cluster est différentiellement exprimé\n",
    "row <- colnames(cd)[2:10]\n",
    "row <- row[-6]\n",
    "\n",
    "col <- colnames(mc[,2:65])\n",
    "assoc_table <- data.frame(matrix(ncol = 64, nrow = 8))\n",
    "colnames(assoc_table) <- col\n",
    "rownames(assoc_table) <- row\n",
    "assoc_table[,] <- FALSE\n",
    "assoc_table"
   ]
  },
  {
   "cell_type": "markdown",
   "metadata": {},
   "source": [
    "#### Sex"
   ]
  },
  {
   "cell_type": "code",
   "execution_count": 5,
   "metadata": {},
   "outputs": [
    {
     "name": "stderr",
     "output_type": "stream",
     "text": [
      "converting counts to integer mode\n",
      "\n"
     ]
    }
   ],
   "source": [
    "dds = DESeqDataSetFromMatrix(t(data.matrix(mc)),colData=cd, design = ~ SEX)\n"
   ]
  },
  {
   "cell_type": "code",
   "execution_count": 6,
   "metadata": {},
   "outputs": [
    {
     "name": "stderr",
     "output_type": "stream",
     "text": [
      "estimating size factors\n",
      "\n",
      "estimating dispersions\n",
      "\n",
      "gene-wise dispersion estimates\n",
      "\n",
      "mean-dispersion relationship\n",
      "\n",
      "final dispersion estimates\n",
      "\n",
      "fitting model and testing\n",
      "\n",
      "-- replacing outliers and refitting for 10 genes\n",
      "-- DESeq argument 'minReplicatesForReplace' = 7 \n",
      "-- original counts are preserved in counts(dds)\n",
      "\n",
      "estimating dispersions\n",
      "\n",
      "fitting model and testing\n",
      "\n"
     ]
    }
   ],
   "source": [
    "# calcul des expressions différentielles\n",
    "dds <- DESeq(dds)"
   ]
  },
  {
   "cell_type": "code",
   "execution_count": 7,
   "metadata": {},
   "outputs": [
    {
     "data": {
      "text/html": [
       "<style>\n",
       ".list-inline {list-style: none; margin:0; padding: 0}\n",
       ".list-inline>li {display: inline-block}\n",
       ".list-inline>li:not(:last-child)::after {content: \"\\00b7\"; padding: 0 .5ex}\n",
       "</style>\n",
       "<ol class=list-inline><li>'Intercept'</li><li>'SEX_2_vs_1'</li></ol>\n"
      ],
      "text/latex": [
       "\\begin{enumerate*}\n",
       "\\item 'Intercept'\n",
       "\\item 'SEX\\_2\\_vs\\_1'\n",
       "\\end{enumerate*}\n"
      ],
      "text/markdown": [
       "1. 'Intercept'\n",
       "2. 'SEX_2_vs_1'\n",
       "\n",
       "\n"
      ],
      "text/plain": [
       "[1] \"Intercept\"  \"SEX_2_vs_1\""
      ]
     },
     "metadata": {},
     "output_type": "display_data"
    },
    {
     "data": {
      "text/plain": [
       "log2 fold change (MLE): SEX 2 vs 1 \n",
       "Wald test p-value: SEX 2 vs 1 \n",
       "DataFrame with 65 rows and 6 columns\n",
       "                         baseMean log2FoldChange     lfcSE      stat    pvalue\n",
       "                        <numeric>      <numeric> <numeric> <numeric> <numeric>\n",
       "SMPLID                    72.9315       0.194895  0.214459  0.908774 0.3634695\n",
       "Mophological.cluster.0   105.4915       0.393762  0.194342  2.026128 0.0427517\n",
       "Mophological.cluster.1   103.7647       0.186658  0.230576  0.809531 0.4182099\n",
       "Mophological.cluster.2   117.1776       0.169954  0.244563  0.694930 0.4870990\n",
       "Mophological.cluster.3   125.2827       0.494131  0.226603  2.180604 0.0292128\n",
       "...                           ...            ...       ...       ...       ...\n",
       "Mophological.cluster.59   13.8445      0.2001548  0.408155  0.490390 0.6238581\n",
       "Mophological.cluster.60  126.7505      0.3583921  0.194006  1.847321 0.0647006\n",
       "Mophological.cluster.61  139.2785     -0.1050435  0.275162 -0.381752 0.7026454\n",
       "Mophological.cluster.62  152.6477      0.0712856  0.257501  0.276836 0.7819059\n",
       "Mophological.cluster.63  136.0940      0.5309579  0.299207  1.774550 0.0759723\n",
       "                             padj\n",
       "                        <numeric>\n",
       "SMPLID                   0.558502\n",
       "Mophological.cluster.0   0.134668\n",
       "Mophological.cluster.1   0.627315\n",
       "Mophological.cluster.2   0.673182\n",
       "Mophological.cluster.3   0.110907\n",
       "...                           ...\n",
       "Mophological.cluster.59  0.741567\n",
       "Mophological.cluster.60  0.176143\n",
       "Mophological.cluster.61  0.790476\n",
       "Mophological.cluster.62  0.849312\n",
       "Mophological.cluster.63  0.184087"
      ]
     },
     "metadata": {},
     "output_type": "display_data"
    },
    {
     "name": "stdout",
     "output_type": "stream",
     "text": [
      "\n",
      "out of 65 with nonzero total read count\n",
      "adjusted p-value < 0.1\n",
      "LFC > 0 (up)       : 14, 22%\n",
      "LFC < 0 (down)     : 1, 1.5%\n",
      "outliers [1]       : 0, 0%\n",
      "low counts [2]     : 2, 3.1%\n",
      "(mean count < 8)\n",
      "[1] see 'cooksCutoff' argument of ?results\n",
      "[2] see 'independentFiltering' argument of ?results\n",
      "\n"
     ]
    }
   ],
   "source": [
    "res <- results(dds)\n",
    "resultsNames(dds)\n",
    "res\n",
    "summary(res)"
   ]
  },
  {
   "cell_type": "code",
   "execution_count": 8,
   "metadata": {},
   "outputs": [
    {
     "data": {
      "text/plain": [
       "\n",
       "FALSE  TRUE \n",
       "   58     7 "
      ]
     },
     "metadata": {},
     "output_type": "display_data"
    }
   ],
   "source": [
    "#pour voir le nombre de clusters pour lesquels la p-value est inférieure à 0.05\n",
    "res.05 <- results(dds, alpha = 0.05)\n",
    "table(res.05$padj < 0.05)"
   ]
  },
  {
   "cell_type": "code",
   "execution_count": 23,
   "metadata": {
    "collapsed": true
   },
   "outputs": [
    {
     "data": {
      "text/plain": [
       "log2 fold change (MLE): SEX 2 vs 1 \n",
       "Wald test p-value: SEX 2 vs 1 \n",
       "DataFrame with 7 rows and 6 columns\n",
       "                         baseMean log2FoldChange     lfcSE      stat\n",
       "                        <numeric>      <numeric> <numeric> <numeric>\n",
       "Mophological.cluster.28  154.2311       0.611144  0.215170   2.84029\n",
       "Mophological.cluster.29   71.3152       0.672496  0.225778   2.97857\n",
       "Mophological.cluster.57  114.7111       0.944129  0.282605   3.34081\n",
       "Mophological.cluster.18   79.0266       1.053218  0.268311   3.92536\n",
       "Mophological.cluster.38   92.7315       1.073725  0.294151   3.65026\n",
       "Mophological.cluster.42  108.5923       1.816409  0.393394   4.61728\n",
       "Mophological.cluster.36  116.7020       2.803487  0.460505   6.08786\n",
       "                             pvalue        padj\n",
       "                          <numeric>   <numeric>\n",
       "Mophological.cluster.28 4.50729e-03 4.05656e-02\n",
       "Mophological.cluster.29 2.89601e-03 3.04081e-02\n",
       "Mophological.cluster.57 8.35347e-04 1.05254e-02\n",
       "Mophological.cluster.18 8.65987e-05 1.81857e-03\n",
       "Mophological.cluster.38 2.61977e-04 4.12614e-03\n",
       "Mophological.cluster.42 3.88804e-06 1.22473e-04\n",
       "Mophological.cluster.36 1.14432e-09 7.20919e-08"
      ]
     },
     "metadata": {},
     "output_type": "display_data"
    },
    {
     "data": {
      "text/html": [
       "<style>\n",
       ".list-inline {list-style: none; margin:0; padding: 0}\n",
       ".list-inline>li {display: inline-block}\n",
       ".list-inline>li:not(:last-child)::after {content: \"\\00b7\"; padding: 0 .5ex}\n",
       "</style>\n",
       "<ol class=list-inline><li>'Mophological.cluster.18'</li><li>'Mophological.cluster.28'</li><li>'Mophological.cluster.29'</li><li>'Mophological.cluster.36'</li><li>'Mophological.cluster.38'</li><li>'Mophological.cluster.42'</li><li>'Mophological.cluster.57'</li></ol>\n"
      ],
      "text/latex": [
       "\\begin{enumerate*}\n",
       "\\item 'Mophological.cluster.18'\n",
       "\\item 'Mophological.cluster.28'\n",
       "\\item 'Mophological.cluster.29'\n",
       "\\item 'Mophological.cluster.36'\n",
       "\\item 'Mophological.cluster.38'\n",
       "\\item 'Mophological.cluster.42'\n",
       "\\item 'Mophological.cluster.57'\n",
       "\\end{enumerate*}\n"
      ],
      "text/markdown": [
       "1. 'Mophological.cluster.18'\n",
       "2. 'Mophological.cluster.28'\n",
       "3. 'Mophological.cluster.29'\n",
       "4. 'Mophological.cluster.36'\n",
       "5. 'Mophological.cluster.38'\n",
       "6. 'Mophological.cluster.42'\n",
       "7. 'Mophological.cluster.57'\n",
       "\n",
       "\n"
      ],
      "text/plain": [
       "[1] \"Mophological.cluster.18\" \"Mophological.cluster.28\"\n",
       "[3] \"Mophological.cluster.29\" \"Mophological.cluster.36\"\n",
       "[5] \"Mophological.cluster.38\" \"Mophological.cluster.42\"\n",
       "[7] \"Mophological.cluster.57\""
      ]
     },
     "metadata": {},
     "output_type": "display_data"
    }
   ],
   "source": [
    "#Voir les 7 clusters avec la p-value ajustée en dessous de 0.05\n",
    "resSig <- subset(res, padj < 0.05)\n",
    "resSig[ order(resSig$log2FoldChange), ]\n"
   ]
  },
  {
   "cell_type": "code",
   "execution_count": 11,
   "metadata": {
    "collapsed": true
   },
   "outputs": [
    {
     "name": "stdout",
     "output_type": "stream",
     "text": [
      "    Mophological.cluster.0 Mophological.cluster.1 Mophological.cluster.2\n",
      "SEX                  FALSE                  FALSE                  FALSE\n",
      "    Mophological.cluster.3 Mophological.cluster.4 Mophological.cluster.5\n",
      "SEX                  FALSE                  FALSE                  FALSE\n",
      "    Mophological.cluster.6 Mophological.cluster.7 Mophological.cluster.8\n",
      "SEX                  FALSE                  FALSE                  FALSE\n",
      "    Mophological.cluster.9 Mophological.cluster.10 Mophological.cluster.11\n",
      "SEX                  FALSE                   FALSE                   FALSE\n",
      "    Mophological.cluster.12 Mophological.cluster.13 Mophological.cluster.14\n",
      "SEX                   FALSE                   FALSE                   FALSE\n",
      "    Mophological.cluster.15 Mophological.cluster.16 Mophological.cluster.17\n",
      "SEX                   FALSE                   FALSE                   FALSE\n",
      "    Mophological.cluster.18 Mophological.cluster.19 Mophological.cluster.20\n",
      "SEX                    TRUE                   FALSE                   FALSE\n",
      "    Mophological.cluster.21 Mophological.cluster.22 Mophological.cluster.23\n",
      "SEX                   FALSE                   FALSE                   FALSE\n",
      "    Mophological.cluster.24 Mophological.cluster.25 Mophological.cluster.26\n",
      "SEX                   FALSE                   FALSE                   FALSE\n",
      "    Mophological.cluster.27 Mophological.cluster.28 Mophological.cluster.29\n",
      "SEX                   FALSE                    TRUE                    TRUE\n",
      "    Mophological.cluster.30 Mophological.cluster.31 Mophological.cluster.32\n",
      "SEX                   FALSE                   FALSE                   FALSE\n",
      "    Mophological.cluster.33 Mophological.cluster.34 Mophological.cluster.35\n",
      "SEX                   FALSE                   FALSE                   FALSE\n",
      "    Mophological.cluster.36 Mophological.cluster.37 Mophological.cluster.38\n",
      "SEX                    TRUE                   FALSE                    TRUE\n",
      "    Mophological.cluster.39 Mophological.cluster.40 Mophological.cluster.41\n",
      "SEX                   FALSE                   FALSE                   FALSE\n",
      "    Mophological.cluster.42 Mophological.cluster.43 Mophological.cluster.44\n",
      "SEX                    TRUE                   FALSE                   FALSE\n",
      "    Mophological.cluster.45 Mophological.cluster.46 Mophological.cluster.47\n",
      "SEX                   FALSE                   FALSE                   FALSE\n",
      "    Mophological.cluster.48 Mophological.cluster.49 Mophological.cluster.50\n",
      "SEX                   FALSE                   FALSE                   FALSE\n",
      "    Mophological.cluster.51 Mophological.cluster.52 Mophological.cluster.53\n",
      "SEX                   FALSE                   FALSE                   FALSE\n",
      "    Mophological.cluster.54 Mophological.cluster.55 Mophological.cluster.56\n",
      "SEX                   FALSE                   FALSE                   FALSE\n",
      "    Mophological.cluster.57 Mophological.cluster.58 Mophological.cluster.59\n",
      "SEX                    TRUE                   FALSE                   FALSE\n",
      "    Mophological.cluster.60 Mophological.cluster.61 Mophological.cluster.62\n",
      "SEX                   FALSE                   FALSE                   FALSE\n",
      "    Mophological.cluster.63\n",
      "SEX                   FALSE\n"
     ]
    }
   ],
   "source": [
    "#on remplit la colonne SEX dans assoc_table\n",
    "assoc_table[\"SEX\",] <- colnames(assoc_table) %in% rownames(resSig)\n",
    "print(assoc_table['SEX',])"
   ]
  },
  {
   "cell_type": "markdown",
   "metadata": {},
   "source": [
    "### Numerical variables"
   ]
  },
  {
   "cell_type": "code",
   "execution_count": 24,
   "metadata": {},
   "outputs": [],
   "source": [
    "#fonction pour remplir la ligne du tableau 'assoc_table' associée avec une variable clinique numérique\n",
    "num_dif_exp <- function(condition, assoc_table){\n",
    "    cond <- as.formula(paste(\"~\", condition))\n",
    "    print(cond)\n",
    "    dds = DESeqDataSetFromMatrix(t(data.matrix(mc)),colData=cd, design = cond)\n",
    "    dds <- DESeq(dds)\n",
    "    res <- results(dds)\n",
    "    res.05 <- results(dds, alpha = 0.05)\n",
    "    resSig <- subset(res, padj < 0.05)\n",
    "    print(rownames(resSig))\n",
    "    assoc_table[condition,] <<- colnames(assoc_table) %in% rownames(resSig)\n",
    "}"
   ]
  },
  {
   "cell_type": "code",
   "execution_count": 25,
   "metadata": {},
   "outputs": [
    {
     "name": "stdout",
     "output_type": "stream",
     "text": [
      "~AGE\n",
      "<environment: 0x000000004f9a6688>\n"
     ]
    },
    {
     "name": "stderr",
     "output_type": "stream",
     "text": [
      "converting counts to integer mode\n",
      "\n",
      "estimating size factors\n",
      "\n",
      "estimating dispersions\n",
      "\n",
      "gene-wise dispersion estimates\n",
      "\n",
      "mean-dispersion relationship\n",
      "\n",
      "final dispersion estimates\n",
      "\n",
      "fitting model and testing\n",
      "\n",
      "-- replacing outliers and refitting for 3 genes\n",
      "-- DESeq argument 'minReplicatesForReplace' = 7 \n",
      "-- original counts are preserved in counts(dds)\n",
      "\n",
      "estimating dispersions\n",
      "\n",
      "fitting model and testing\n",
      "\n"
     ]
    },
    {
     "name": "stdout",
     "output_type": "stream",
     "text": [
      "~HGHT\n",
      "<environment: 0x00000000076ccc38>\n"
     ]
    },
    {
     "name": "stderr",
     "output_type": "stream",
     "text": [
      "converting counts to integer mode\n",
      "\n",
      "estimating size factors\n",
      "\n",
      "estimating dispersions\n",
      "\n",
      "gene-wise dispersion estimates\n",
      "\n",
      "mean-dispersion relationship\n",
      "\n",
      "final dispersion estimates\n",
      "\n",
      "fitting model and testing\n",
      "\n",
      "-- replacing outliers and refitting for 1 genes\n",
      "-- DESeq argument 'minReplicatesForReplace' = 7 \n",
      "-- original counts are preserved in counts(dds)\n",
      "\n",
      "estimating dispersions\n",
      "\n",
      "fitting model and testing\n",
      "\n"
     ]
    },
    {
     "name": "stdout",
     "output_type": "stream",
     "text": [
      "~WGHT\n",
      "<environment: 0x000000000f8917d0>\n"
     ]
    },
    {
     "name": "stderr",
     "output_type": "stream",
     "text": [
      "converting counts to integer mode\n",
      "\n",
      "estimating size factors\n",
      "\n",
      "estimating dispersions\n",
      "\n",
      "gene-wise dispersion estimates\n",
      "\n",
      "mean-dispersion relationship\n",
      "\n",
      "final dispersion estimates\n",
      "\n",
      "fitting model and testing\n",
      "\n"
     ]
    },
    {
     "name": "stdout",
     "output_type": "stream",
     "text": [
      "~BMI\n",
      "<environment: 0x000000004efb09d8>\n"
     ]
    },
    {
     "name": "stderr",
     "output_type": "stream",
     "text": [
      "converting counts to integer mode\n",
      "\n",
      "estimating size factors\n",
      "\n",
      "estimating dispersions\n",
      "\n",
      "gene-wise dispersion estimates\n",
      "\n",
      "mean-dispersion relationship\n",
      "\n",
      "final dispersion estimates\n",
      "\n",
      "fitting model and testing\n",
      "\n"
     ]
    },
    {
     "name": "stdout",
     "output_type": "stream",
     "text": [
      "~TRISCHD\n",
      "<environment: 0x00000000505ffe28>\n"
     ]
    },
    {
     "name": "stderr",
     "output_type": "stream",
     "text": [
      "converting counts to integer mode\n",
      "\n",
      "estimating size factors\n",
      "\n",
      "estimating dispersions\n",
      "\n",
      "gene-wise dispersion estimates\n",
      "\n",
      "mean-dispersion relationship\n",
      "\n",
      "final dispersion estimates\n",
      "\n",
      "fitting model and testing\n",
      "\n"
     ]
    }
   ],
   "source": [
    "for(variable in numerical_variables){\n",
    "    num_dif_exp(variable, assoc_table)}"
   ]
  },
  {
   "cell_type": "code",
   "execution_count": 45,
   "metadata": {},
   "outputs": [
    {
     "data": {
      "image/png": "[encoded data removed]",
      "text/plain": [
       "plot without title"
      ]
     },
     "metadata": {
      "image/png": {
       "height": 900,
       "width": 1200
      }
     },
     "output_type": "display_data"
    }
   ],
   "source": [
    "options(repr.plot.width=20, repr.plot.height=15)\n",
    "heatmap(data.matrix(assoc_table), scale='none')"
   ]
  },
  {
   "cell_type": "markdown",
   "metadata": {},
   "source": [
    "#### Age"
   ]
  },
  {
   "cell_type": "code",
   "execution_count": null,
   "metadata": {},
   "outputs": [],
   "source": [
    "dds = DESeqDataSetFromMatrix(t(data.matrix(mc)),colData=cd, design = ~AGE)\n"
   ]
  },
  {
   "cell_type": "code",
   "execution_count": null,
   "metadata": {},
   "outputs": [],
   "source": [
    "dds <- DESeq(dds)\n",
    "res <- results(dds)\n",
    "resultsNames(dds)\n",
    "res\n",
    "summary(res)"
   ]
  },
  {
   "cell_type": "code",
   "execution_count": null,
   "metadata": {},
   "outputs": [],
   "source": [
    "res.05 <- results(dds, alpha = 0.05)\n",
    "table(res.05$padj < 0.05)\n",
    "resSig <- subset(res, padj < 0.05)\n",
    "resSig[ order(resSig$log2FoldChange), ]\n",
    "assoc_table[2,] <- colnames(assoc_table) %in% rownames(resSig)\n",
    "assoc_table"
   ]
  }
 ],
 "metadata": {
  "kernelspec": {
   "display_name": "R",
   "language": "R",
   "name": "ir"
  },
  "language_info": {
   "codemirror_mode": "r",
   "file_extension": ".r",
   "mimetype": "text/x-r-source",
   "name": "R",
   "pygments_lexer": "r",
   "version": "4.1.3"
  }
 },
 "nbformat": 4,
 "nbformat_minor": 2
}
