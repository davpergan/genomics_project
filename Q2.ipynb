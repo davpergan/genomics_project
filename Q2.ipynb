{
 "cells": [
  {
   "cell_type": "markdown",
   "metadata": {},
   "source": [
    "# Question 2"
   ]
  },
  {
   "cell_type": "code",
   "execution_count": null,
   "metadata": {},
   "outputs": [
    {
     "name": "stderr",
     "output_type": "stream",
     "text": [
      "'getOption(\"repos\")' replaces Bioconductor standard repositories, see\n",
      "'?repositories' for details\n",
      "\n",
      "replacement repositories:\n",
      "    CRAN: https://cran.r-project.org\n",
      "\n",
      "\n",
      "Bioconductor version 3.14 (BiocManager 1.30.16), R 4.1.3 (2022-03-10)\n",
      "\n",
      "Installing package(s) 'tximeta'\n",
      "\n",
      "installation des dépendances 'rjson', 'GenomicAlignments', 'restfulr', 'Rhtslib', 'assertthat', 'DT', 'BiocIO', 'rtracklayer', 'biomaRt', 'AnnotationFilter', 'Rsamtools', 'ProtGenerics', 'dbplyr', 'filelock', 'interactiveDisplayBase', 'GenomicFeatures', 'ensembldb', 'BiocFileCache', 'AnnotationHub'\n",
      "\n",
      "\n"
     ]
    }
   ],
   "source": [
    "#BiocManager::install(\"DESeq2\")\n",
    "#BiocManager::install(\"vsn\")\n",
    "#BiocManager::install(\"tximport\")\n",
    "BiocManager::install(\"tximeta\")"
   ]
  },
  {
   "cell_type": "code",
   "execution_count": 48,
   "metadata": {},
   "outputs": [],
   "source": [
    "#imports\n",
    "library(readr)\n",
    "library(tigerstats)\n",
    "library(ggplot2)\n",
    "library(gridExtra)\n",
    "library(\"DESeq2\")\n",
    "library(\"vsn\")"
   ]
  },
  {
   "cell_type": "code",
   "execution_count": 78,
   "metadata": {},
   "outputs": [
    {
     "name": "stderr",
     "output_type": "stream",
     "text": [
      "\u001b[1mRows: \u001b[22m\u001b[34m136\u001b[39m \u001b[1mColumns: \u001b[22m\u001b[34m12\u001b[39m\n",
      "\u001b[36m--\u001b[39m \u001b[1mColumn specification\u001b[22m \u001b[36m------------------------------------------------------------------------------------------------\u001b[39m\n",
      "\u001b[1mDelimiter:\u001b[22m \"\\t\"\n",
      "\u001b[31mchr\u001b[39m (5): SMPLID, SMPTHNTS, COHORT, SUBJID, IMGURL\n",
      "\u001b[32mdbl\u001b[39m (7): SEX, AGE, HGHT, WGHT, BMI, TRISCHD, DTHHRDY\n",
      "\n",
      "\u001b[36mi\u001b[39m Use `spec()` to retrieve the full column specification for this data.\n",
      "\u001b[36mi\u001b[39m Specify the column types or set `show_col_types = FALSE` to quiet this message.\n",
      "\u001b[1mRows: \u001b[22m\u001b[34m136\u001b[39m \u001b[1mColumns: \u001b[22m\u001b[34m65\u001b[39m\n",
      "\u001b[36m--\u001b[39m \u001b[1mColumn specification\u001b[22m \u001b[36m------------------------------------------------------------------------------------------------\u001b[39m\n",
      "\u001b[1mDelimiter:\u001b[22m \"\\t\"\n",
      "\u001b[31mchr\u001b[39m  (1): SMPLID\n",
      "\u001b[32mdbl\u001b[39m (64): Mophological.cluster.0, Mophological.cluster.1, Mophological.clust...\n",
      "\n",
      "\u001b[36mi\u001b[39m Use `spec()` to retrieve the full column specification for this data.\n",
      "\u001b[36mi\u001b[39m Specify the column types or set `show_col_types = FALSE` to quiet this message.\n"
     ]
    }
   ],
   "source": [
    "#load data\n",
    "cd <- read_tsv(\"clinical-data.tsv\") \n",
    "mc <- read_tsv(\"morphological-counts.tsv\")"
   ]
  },
  {
   "cell_type": "code",
   "execution_count": 79,
   "metadata": {
    "collapsed": true
   },
   "outputs": [
    {
     "data": {
      "text/html": [
       "136"
      ],
      "text/latex": [
       "136"
      ],
      "text/markdown": [
       "136"
      ],
      "text/plain": [
       "[1] 136"
      ]
     },
     "metadata": {},
     "output_type": "display_data"
    },
    {
     "data": {
      "text/html": [
       "<style>\n",
       ".list-inline {list-style: none; margin:0; padding: 0}\n",
       ".list-inline>li {display: inline-block}\n",
       ".list-inline>li:not(:last-child)::after {content: \"\\00b7\"; padding: 0 .5ex}\n",
       "</style>\n",
       "<ol class=list-inline><li>'Mophological.cluster.0'</li><li>'Mophological.cluster.1'</li><li>'Mophological.cluster.2'</li><li>'Mophological.cluster.3'</li><li>'Mophological.cluster.4'</li><li>'Mophological.cluster.5'</li><li>'Mophological.cluster.6'</li><li>'Mophological.cluster.7'</li><li>'Mophological.cluster.8'</li><li>'Mophological.cluster.9'</li><li>'Mophological.cluster.10'</li><li>'Mophological.cluster.11'</li><li>'Mophological.cluster.12'</li><li>'Mophological.cluster.13'</li><li>'Mophological.cluster.14'</li><li>'Mophological.cluster.15'</li><li>'Mophological.cluster.16'</li><li>'Mophological.cluster.17'</li><li>'Mophological.cluster.18'</li><li>'Mophological.cluster.19'</li><li>'Mophological.cluster.20'</li><li>'Mophological.cluster.21'</li><li>'Mophological.cluster.22'</li><li>'Mophological.cluster.23'</li><li>'Mophological.cluster.24'</li><li>'Mophological.cluster.25'</li><li>'Mophological.cluster.26'</li><li>'Mophological.cluster.27'</li><li>'Mophological.cluster.28'</li><li>'Mophological.cluster.29'</li><li>'Mophological.cluster.30'</li><li>'Mophological.cluster.31'</li><li>'Mophological.cluster.32'</li><li>'Mophological.cluster.33'</li><li>'Mophological.cluster.34'</li><li>'Mophological.cluster.35'</li><li>'Mophological.cluster.36'</li><li>'Mophological.cluster.37'</li><li>'Mophological.cluster.38'</li><li>'Mophological.cluster.39'</li><li>'Mophological.cluster.40'</li><li>'Mophological.cluster.41'</li><li>'Mophological.cluster.42'</li><li>'Mophological.cluster.43'</li><li>'Mophological.cluster.44'</li><li>'Mophological.cluster.45'</li><li>'Mophological.cluster.46'</li><li>'Mophological.cluster.47'</li><li>'Mophological.cluster.48'</li><li>'Mophological.cluster.49'</li><li>'Mophological.cluster.50'</li><li>'Mophological.cluster.51'</li><li>'Mophological.cluster.52'</li><li>'Mophological.cluster.53'</li><li>'Mophological.cluster.54'</li><li>'Mophological.cluster.55'</li><li>'Mophological.cluster.56'</li><li>'Mophological.cluster.57'</li><li>'Mophological.cluster.58'</li><li>'Mophological.cluster.59'</li><li>'Mophological.cluster.60'</li><li>'Mophological.cluster.61'</li><li>'Mophological.cluster.62'</li><li>'Mophological.cluster.63'</li></ol>\n"
      ],
      "text/latex": [
       "\\begin{enumerate*}\n",
       "\\item 'Mophological.cluster.0'\n",
       "\\item 'Mophological.cluster.1'\n",
       "\\item 'Mophological.cluster.2'\n",
       "\\item 'Mophological.cluster.3'\n",
       "\\item 'Mophological.cluster.4'\n",
       "\\item 'Mophological.cluster.5'\n",
       "\\item 'Mophological.cluster.6'\n",
       "\\item 'Mophological.cluster.7'\n",
       "\\item 'Mophological.cluster.8'\n",
       "\\item 'Mophological.cluster.9'\n",
       "\\item 'Mophological.cluster.10'\n",
       "\\item 'Mophological.cluster.11'\n",
       "\\item 'Mophological.cluster.12'\n",
       "\\item 'Mophological.cluster.13'\n",
       "\\item 'Mophological.cluster.14'\n",
       "\\item 'Mophological.cluster.15'\n",
       "\\item 'Mophological.cluster.16'\n",
       "\\item 'Mophological.cluster.17'\n",
       "\\item 'Mophological.cluster.18'\n",
       "\\item 'Mophological.cluster.19'\n",
       "\\item 'Mophological.cluster.20'\n",
       "\\item 'Mophological.cluster.21'\n",
       "\\item 'Mophological.cluster.22'\n",
       "\\item 'Mophological.cluster.23'\n",
       "\\item 'Mophological.cluster.24'\n",
       "\\item 'Mophological.cluster.25'\n",
       "\\item 'Mophological.cluster.26'\n",
       "\\item 'Mophological.cluster.27'\n",
       "\\item 'Mophological.cluster.28'\n",
       "\\item 'Mophological.cluster.29'\n",
       "\\item 'Mophological.cluster.30'\n",
       "\\item 'Mophological.cluster.31'\n",
       "\\item 'Mophological.cluster.32'\n",
       "\\item 'Mophological.cluster.33'\n",
       "\\item 'Mophological.cluster.34'\n",
       "\\item 'Mophological.cluster.35'\n",
       "\\item 'Mophological.cluster.36'\n",
       "\\item 'Mophological.cluster.37'\n",
       "\\item 'Mophological.cluster.38'\n",
       "\\item 'Mophological.cluster.39'\n",
       "\\item 'Mophological.cluster.40'\n",
       "\\item 'Mophological.cluster.41'\n",
       "\\item 'Mophological.cluster.42'\n",
       "\\item 'Mophological.cluster.43'\n",
       "\\item 'Mophological.cluster.44'\n",
       "\\item 'Mophological.cluster.45'\n",
       "\\item 'Mophological.cluster.46'\n",
       "\\item 'Mophological.cluster.47'\n",
       "\\item 'Mophological.cluster.48'\n",
       "\\item 'Mophological.cluster.49'\n",
       "\\item 'Mophological.cluster.50'\n",
       "\\item 'Mophological.cluster.51'\n",
       "\\item 'Mophological.cluster.52'\n",
       "\\item 'Mophological.cluster.53'\n",
       "\\item 'Mophological.cluster.54'\n",
       "\\item 'Mophological.cluster.55'\n",
       "\\item 'Mophological.cluster.56'\n",
       "\\item 'Mophological.cluster.57'\n",
       "\\item 'Mophological.cluster.58'\n",
       "\\item 'Mophological.cluster.59'\n",
       "\\item 'Mophological.cluster.60'\n",
       "\\item 'Mophological.cluster.61'\n",
       "\\item 'Mophological.cluster.62'\n",
       "\\item 'Mophological.cluster.63'\n",
       "\\end{enumerate*}\n"
      ],
      "text/markdown": [
       "1. 'Mophological.cluster.0'\n",
       "2. 'Mophological.cluster.1'\n",
       "3. 'Mophological.cluster.2'\n",
       "4. 'Mophological.cluster.3'\n",
       "5. 'Mophological.cluster.4'\n",
       "6. 'Mophological.cluster.5'\n",
       "7. 'Mophological.cluster.6'\n",
       "8. 'Mophological.cluster.7'\n",
       "9. 'Mophological.cluster.8'\n",
       "10. 'Mophological.cluster.9'\n",
       "11. 'Mophological.cluster.10'\n",
       "12. 'Mophological.cluster.11'\n",
       "13. 'Mophological.cluster.12'\n",
       "14. 'Mophological.cluster.13'\n",
       "15. 'Mophological.cluster.14'\n",
       "16. 'Mophological.cluster.15'\n",
       "17. 'Mophological.cluster.16'\n",
       "18. 'Mophological.cluster.17'\n",
       "19. 'Mophological.cluster.18'\n",
       "20. 'Mophological.cluster.19'\n",
       "21. 'Mophological.cluster.20'\n",
       "22. 'Mophological.cluster.21'\n",
       "23. 'Mophological.cluster.22'\n",
       "24. 'Mophological.cluster.23'\n",
       "25. 'Mophological.cluster.24'\n",
       "26. 'Mophological.cluster.25'\n",
       "27. 'Mophological.cluster.26'\n",
       "28. 'Mophological.cluster.27'\n",
       "29. 'Mophological.cluster.28'\n",
       "30. 'Mophological.cluster.29'\n",
       "31. 'Mophological.cluster.30'\n",
       "32. 'Mophological.cluster.31'\n",
       "33. 'Mophological.cluster.32'\n",
       "34. 'Mophological.cluster.33'\n",
       "35. 'Mophological.cluster.34'\n",
       "36. 'Mophological.cluster.35'\n",
       "37. 'Mophological.cluster.36'\n",
       "38. 'Mophological.cluster.37'\n",
       "39. 'Mophological.cluster.38'\n",
       "40. 'Mophological.cluster.39'\n",
       "41. 'Mophological.cluster.40'\n",
       "42. 'Mophological.cluster.41'\n",
       "43. 'Mophological.cluster.42'\n",
       "44. 'Mophological.cluster.43'\n",
       "45. 'Mophological.cluster.44'\n",
       "46. 'Mophological.cluster.45'\n",
       "47. 'Mophological.cluster.46'\n",
       "48. 'Mophological.cluster.47'\n",
       "49. 'Mophological.cluster.48'\n",
       "50. 'Mophological.cluster.49'\n",
       "51. 'Mophological.cluster.50'\n",
       "52. 'Mophological.cluster.51'\n",
       "53. 'Mophological.cluster.52'\n",
       "54. 'Mophological.cluster.53'\n",
       "55. 'Mophological.cluster.54'\n",
       "56. 'Mophological.cluster.55'\n",
       "57. 'Mophological.cluster.56'\n",
       "58. 'Mophological.cluster.57'\n",
       "59. 'Mophological.cluster.58'\n",
       "60. 'Mophological.cluster.59'\n",
       "61. 'Mophological.cluster.60'\n",
       "62. 'Mophological.cluster.61'\n",
       "63. 'Mophological.cluster.62'\n",
       "64. 'Mophological.cluster.63'\n",
       "\n",
       "\n"
      ],
      "text/plain": [
       " [1] \"Mophological.cluster.0\"  \"Mophological.cluster.1\" \n",
       " [3] \"Mophological.cluster.2\"  \"Mophological.cluster.3\" \n",
       " [5] \"Mophological.cluster.4\"  \"Mophological.cluster.5\" \n",
       " [7] \"Mophological.cluster.6\"  \"Mophological.cluster.7\" \n",
       " [9] \"Mophological.cluster.8\"  \"Mophological.cluster.9\" \n",
       "[11] \"Mophological.cluster.10\" \"Mophological.cluster.11\"\n",
       "[13] \"Mophological.cluster.12\" \"Mophological.cluster.13\"\n",
       "[15] \"Mophological.cluster.14\" \"Mophological.cluster.15\"\n",
       "[17] \"Mophological.cluster.16\" \"Mophological.cluster.17\"\n",
       "[19] \"Mophological.cluster.18\" \"Mophological.cluster.19\"\n",
       "[21] \"Mophological.cluster.20\" \"Mophological.cluster.21\"\n",
       "[23] \"Mophological.cluster.22\" \"Mophological.cluster.23\"\n",
       "[25] \"Mophological.cluster.24\" \"Mophological.cluster.25\"\n",
       "[27] \"Mophological.cluster.26\" \"Mophological.cluster.27\"\n",
       "[29] \"Mophological.cluster.28\" \"Mophological.cluster.29\"\n",
       "[31] \"Mophological.cluster.30\" \"Mophological.cluster.31\"\n",
       "[33] \"Mophological.cluster.32\" \"Mophological.cluster.33\"\n",
       "[35] \"Mophological.cluster.34\" \"Mophological.cluster.35\"\n",
       "[37] \"Mophological.cluster.36\" \"Mophological.cluster.37\"\n",
       "[39] \"Mophological.cluster.38\" \"Mophological.cluster.39\"\n",
       "[41] \"Mophological.cluster.40\" \"Mophological.cluster.41\"\n",
       "[43] \"Mophological.cluster.42\" \"Mophological.cluster.43\"\n",
       "[45] \"Mophological.cluster.44\" \"Mophological.cluster.45\"\n",
       "[47] \"Mophological.cluster.46\" \"Mophological.cluster.47\"\n",
       "[49] \"Mophological.cluster.48\" \"Mophological.cluster.49\"\n",
       "[51] \"Mophological.cluster.50\" \"Mophological.cluster.51\"\n",
       "[53] \"Mophological.cluster.52\" \"Mophological.cluster.53\"\n",
       "[55] \"Mophological.cluster.54\" \"Mophological.cluster.55\"\n",
       "[57] \"Mophological.cluster.56\" \"Mophological.cluster.57\"\n",
       "[59] \"Mophological.cluster.58\" \"Mophological.cluster.59\"\n",
       "[61] \"Mophological.cluster.60\" \"Mophological.cluster.61\"\n",
       "[63] \"Mophological.cluster.62\" \"Mophological.cluster.63\""
      ]
     },
     "metadata": {},
     "output_type": "display_data"
    }
   ],
   "source": [
    "#pour la suite c'est plus simple d'enlever la première colonne avec les noms de gènes et de ne garder que celles \n",
    "#avec des nombres\n",
    "nrow(mc)\n",
    "mc <- mc[,2:65]"
   ]
  },
  {
   "cell_type": "markdown",
   "metadata": {},
   "source": [
    "## Pré-analyses"
   ]
  },
  {
   "cell_type": "markdown",
   "metadata": {},
   "source": [
    "### Corrélation moyenne-variance"
   ]
  },
  {
   "cell_type": "code",
   "execution_count": 80,
   "metadata": {},
   "outputs": [
    {
     "data": {
      "text/html": [
       "0.379300373071213"
      ],
      "text/latex": [
       "0.379300373071213"
      ],
      "text/markdown": [
       "0.379300373071213"
      ],
      "text/plain": [
       "[1] 0.3793004"
      ]
     },
     "metadata": {},
     "output_type": "display_data"
    },
    {
     "data": {
      "image/png": "[encoded data removed]",
      "text/plain": [
       "plot without title"
      ]
     },
     "metadata": {
      "image/png": {
       "height": 420,
       "width": 420
      }
     },
     "output_type": "display_data"
    }
   ],
   "source": [
    "#Dans l'article sur DESseq2 ils parlent du fait qu'avec les rna counts on a une corrélation entre la moyenne de l'expression\n",
    "#d'un gêne et sa variance, et du coup il vaut mieux faire une normalisation, par exemple pour les pca etc. du coup je voulais\n",
    "#vérifier si c'est le cas aussi avec les cluster counts mais il semble que non\n",
    "#après, ça ne veut pas nécessairement dire qu'il ne faut pas quand même faire de normalisation \n",
    "\n",
    "means <- colMeans(mc)\n",
    "sdev <- sapply(mc, sd)\n",
    "\n",
    "plot(means, sdev)\n",
    "cor(means, sdev)"
   ]
  },
  {
   "cell_type": "code",
   "execution_count": 81,
   "metadata": {},
   "outputs": [
    {
     "name": "stderr",
     "output_type": "stream",
     "text": [
      "Warning message:\n",
      "\"Computation failed in `stat_binhex()`:\n",
      "\"\n"
     ]
    },
    {
     "data": {
      "image/png": "[encoded data removed]",
      "text/plain": [
       "plot without title"
      ]
     },
     "metadata": {
      "image/png": {
       "height": 420,
       "width": 420
      }
     },
     "output_type": "display_data"
    }
   ],
   "source": [
    "meanSdPlot(t(data.matrix(mc)), ranks=FALSE)"
   ]
  },
  {
   "cell_type": "code",
   "execution_count": 77,
   "metadata": {
    "collapsed": true
   },
   "outputs": [
    {
     "name": "stderr",
     "output_type": "stream",
     "text": [
      "\u001b[1mRows: \u001b[22m\u001b[34m56200\u001b[39m \u001b[1mColumns: \u001b[22m\u001b[34m138\u001b[39m\n",
      "\u001b[36m--\u001b[39m \u001b[1mColumn specification\u001b[22m \u001b[36m------------------------------------------------------------------------------------------------\u001b[39m\n",
      "\u001b[1mDelimiter:\u001b[22m \"\\t\"\n",
      "\u001b[31mchr\u001b[39m   (2): Name, Description\n",
      "\u001b[32mdbl\u001b[39m (136): GTEX-11EM3-0126, GTEX-11EQ9-0626, GTEX-11LCK-0526, GTEX-11NSD-012...\n",
      "\n",
      "\u001b[36mi\u001b[39m Use `spec()` to retrieve the full column specification for this data.\n",
      "\u001b[36mi\u001b[39m Specify the column types or set `show_col_types = FALSE` to quiet this message.\n"
     ]
    },
    {
     "data": {
      "text/html": [
       "<table class=\"dataframe\">\n",
       "<caption>A spec_tbl_df: 56200 × 138</caption>\n",
       "<thead>\n",
       "\t<tr><th scope=col>Name</th><th scope=col>Description</th><th scope=col>GTEX-11EM3-0126</th><th scope=col>GTEX-11EQ9-0626</th><th scope=col>GTEX-11LCK-0526</th><th scope=col>GTEX-11NSD-0126</th><th scope=col>GTEX-11O72-2326</th><th scope=col>GTEX-11P7K-0226</th><th scope=col>GTEX-11P81-0126</th><th scope=col>GTEX-11P82-0226</th><th scope=col>...</th><th scope=col>GTEX-1QP9N-0126</th><th scope=col>GTEX-1QPFJ-0626</th><th scope=col>GTEX-1QW4Y-0226</th><th scope=col>GTEX-1R9JW-0226</th><th scope=col>GTEX-1R9PM-0226</th><th scope=col>GTEX-1RAZA-0826</th><th scope=col>GTEX-1RAZQ-0926</th><th scope=col>GTEX-1RAZR-1126</th><th scope=col>GTEX-1S5ZU-0726</th><th scope=col>GTEX-1S83E-0726</th></tr>\n",
       "\t<tr><th scope=col>&lt;chr&gt;</th><th scope=col>&lt;chr&gt;</th><th scope=col>&lt;dbl&gt;</th><th scope=col>&lt;dbl&gt;</th><th scope=col>&lt;dbl&gt;</th><th scope=col>&lt;dbl&gt;</th><th scope=col>&lt;dbl&gt;</th><th scope=col>&lt;dbl&gt;</th><th scope=col>&lt;dbl&gt;</th><th scope=col>&lt;dbl&gt;</th><th scope=col>...</th><th scope=col>&lt;dbl&gt;</th><th scope=col>&lt;dbl&gt;</th><th scope=col>&lt;dbl&gt;</th><th scope=col>&lt;dbl&gt;</th><th scope=col>&lt;dbl&gt;</th><th scope=col>&lt;dbl&gt;</th><th scope=col>&lt;dbl&gt;</th><th scope=col>&lt;dbl&gt;</th><th scope=col>&lt;dbl&gt;</th><th scope=col>&lt;dbl&gt;</th></tr>\n",
       "</thead>\n",
       "<tbody>\n",
       "\t<tr><td>ENSG00000223972.5 </td><td>DDX11L1          </td><td>  0</td><td>  1</td><td>  0</td><td>  0</td><td>  0</td><td>  0</td><td>  0</td><td>  3</td><td>...</td><td>  0</td><td>  0</td><td>  0</td><td>  0</td><td>  0</td><td>  0</td><td>  1</td><td>  0</td><td>  1</td><td>  1</td></tr>\n",
       "\t<tr><td>ENSG00000227232.5 </td><td>WASH7P           </td><td>122</td><td>174</td><td> 85</td><td>115</td><td>197</td><td>263</td><td>119</td><td>125</td><td>...</td><td>111</td><td>183</td><td>124</td><td> 74</td><td>191</td><td>251</td><td>246</td><td> 91</td><td>169</td><td>162</td></tr>\n",
       "\t<tr><td>ENSG00000278267.1 </td><td>MIR6859-1        </td><td>  0</td><td>  0</td><td>  0</td><td>  0</td><td>  0</td><td>  0</td><td>  0</td><td>  0</td><td>...</td><td>  0</td><td>  0</td><td>  0</td><td>  0</td><td>  1</td><td>  1</td><td>  0</td><td>  0</td><td>  0</td><td>  0</td></tr>\n",
       "\t<tr><td>ENSG00000243485.5 </td><td>MIR1302-2HG      </td><td>  3</td><td>  0</td><td>  1</td><td>  0</td><td>  0</td><td>  0</td><td>  0</td><td>  0</td><td>...</td><td>  0</td><td>  0</td><td>  0</td><td>  0</td><td>  0</td><td>  0</td><td>  0</td><td>  0</td><td>  0</td><td>  1</td></tr>\n",
       "\t<tr><td>ENSG00000237613.2 </td><td>FAM138A          </td><td>  1</td><td>  0</td><td>  0</td><td>  1</td><td>  0</td><td>  0</td><td>  0</td><td>  0</td><td>...</td><td>  0</td><td>  0</td><td>  0</td><td>  1</td><td>  0</td><td>  0</td><td>  0</td><td>  0</td><td>  0</td><td>  0</td></tr>\n",
       "\t<tr><td>ENSG00000268020.3 </td><td>OR4G4P           </td><td>  1</td><td>  1</td><td>  1</td><td>  1</td><td>  0</td><td>  0</td><td>  0</td><td>  0</td><td>...</td><td>  0</td><td>  0</td><td>  0</td><td>  1</td><td>  0</td><td>  0</td><td>  1</td><td>  0</td><td>  1</td><td>  1</td></tr>\n",
       "\t<tr><td>ENSG00000240361.1 </td><td>OR4G11P          </td><td>  1</td><td>  5</td><td>  1</td><td>  0</td><td>  0</td><td>  2</td><td>  1</td><td>  3</td><td>...</td><td>  0</td><td>  1</td><td>  0</td><td>  0</td><td>  0</td><td>  1</td><td>  0</td><td>  1</td><td>  1</td><td>  1</td></tr>\n",
       "\t<tr><td>ENSG00000186092.4 </td><td>OR4F5            </td><td>  0</td><td>  1</td><td>  0</td><td>  2</td><td>  1</td><td>  2</td><td>  1</td><td>  1</td><td>...</td><td>  0</td><td>  0</td><td>  0</td><td>  1</td><td>  0</td><td>  1</td><td>  2</td><td>  7</td><td>  3</td><td>  1</td></tr>\n",
       "\t<tr><td>ENSG00000238009.6 </td><td>RP11-34P13.7     </td><td>  3</td><td>  1</td><td>  5</td><td>  3</td><td>  0</td><td>  1</td><td>  3</td><td>  0</td><td>...</td><td>  0</td><td>  5</td><td>  2</td><td>  0</td><td>  4</td><td>  0</td><td>  0</td><td>  0</td><td>  1</td><td>  0</td></tr>\n",
       "\t<tr><td>ENSG00000233750.3 </td><td>CICP27           </td><td>  4</td><td>  2</td><td> 11</td><td> 11</td><td>  2</td><td> 11</td><td>  6</td><td>  1</td><td>...</td><td>  4</td><td>  2</td><td> 12</td><td> 13</td><td>  0</td><td>  2</td><td>  8</td><td>  7</td><td>  6</td><td>  0</td></tr>\n",
       "\t<tr><td>ENSG00000268903.1 </td><td>RP11-34P13.15    </td><td>174</td><td> 73</td><td>225</td><td>163</td><td>313</td><td> 87</td><td> 72</td><td> 96</td><td>...</td><td> 52</td><td>179</td><td>154</td><td>130</td><td> 47</td><td> 41</td><td>227</td><td> 79</td><td>119</td><td> 74</td></tr>\n",
       "\t<tr><td>ENSG00000269981.1 </td><td>RP11-34P13.16    </td><td>114</td><td> 69</td><td>145</td><td>146</td><td>134</td><td> 70</td><td> 57</td><td> 50</td><td>...</td><td> 52</td><td>134</td><td>120</td><td>132</td><td> 25</td><td> 27</td><td>212</td><td> 37</td><td>122</td><td> 49</td></tr>\n",
       "\t<tr><td>ENSG00000239906.1 </td><td>RP11-34P13.14    </td><td>  0</td><td>  1</td><td> 10</td><td>  0</td><td> 13</td><td>  1</td><td>  9</td><td>  0</td><td>...</td><td>  0</td><td> 11</td><td>  4</td><td>  3</td><td>  2</td><td>  0</td><td> 11</td><td>  1</td><td>  0</td><td>  0</td></tr>\n",
       "\t<tr><td>ENSG00000241860.6 </td><td>RP11-34P13.13    </td><td> 35</td><td> 18</td><td> 63</td><td> 22</td><td> 63</td><td> 23</td><td> 77</td><td>  9</td><td>...</td><td> 33</td><td> 27</td><td>  7</td><td>  2</td><td> 41</td><td> 14</td><td> 35</td><td> 18</td><td> 66</td><td> 79</td></tr>\n",
       "\t<tr><td>ENSG00000222623.1 </td><td>RNU6-1100P       </td><td>  0</td><td>  0</td><td>  0</td><td>  0</td><td>  0</td><td>  0</td><td>  0</td><td>  0</td><td>...</td><td>  0</td><td>  0</td><td>  0</td><td>  0</td><td>  0</td><td>  0</td><td>  0</td><td>  0</td><td>  0</td><td>  0</td></tr>\n",
       "\t<tr><td>ENSG00000241599.1 </td><td>RP11-34P13.9     </td><td>  0</td><td>  0</td><td>  0</td><td>  0</td><td>  0</td><td>  0</td><td>  0</td><td>  0</td><td>...</td><td>  0</td><td>  0</td><td>  0</td><td>  0</td><td>  0</td><td>  0</td><td>  0</td><td>  0</td><td>  0</td><td>  0</td></tr>\n",
       "\t<tr><td>ENSG00000279928.2 </td><td>ABC7-43046700E7.1</td><td>  1</td><td> 10</td><td>  0</td><td>  0</td><td>  2</td><td>  2</td><td>  2</td><td>  2</td><td>...</td><td>  4</td><td>  0</td><td>  0</td><td>  6</td><td>  2</td><td>  0</td><td> 12</td><td>  1</td><td>  0</td><td>  0</td></tr>\n",
       "\t<tr><td>ENSG00000279457.4 </td><td>RP11-34P13.18    </td><td>241</td><td>388</td><td> 84</td><td>370</td><td>368</td><td>156</td><td>303</td><td>141</td><td>...</td><td>590</td><td>291</td><td>422</td><td>336</td><td>288</td><td>366</td><td>267</td><td>235</td><td>240</td><td>454</td></tr>\n",
       "\t<tr><td>ENSG00000273874.1 </td><td>MIR6859-2        </td><td>  0</td><td>  0</td><td>  0</td><td>  0</td><td>  0</td><td>  0</td><td>  0</td><td>  0</td><td>...</td><td>  0</td><td>  0</td><td>  0</td><td>  0</td><td>  0</td><td>  0</td><td>  0</td><td>  0</td><td>  0</td><td>  0</td></tr>\n",
       "\t<tr><td>ENSG00000228463.9 </td><td>AP006222.2       </td><td>  6</td><td> 19</td><td> 40</td><td> 44</td><td>  3</td><td> 23</td><td> 72</td><td> 35</td><td>...</td><td>  0</td><td> 28</td><td> 51</td><td> 35</td><td> 33</td><td> 63</td><td> 37</td><td> 45</td><td>  4</td><td> 87</td></tr>\n",
       "\t<tr><td>ENSG00000236679.2 </td><td>RPL23AP24        </td><td>  1</td><td>  1</td><td>  0</td><td>  0</td><td>  1</td><td>  1</td><td>  0</td><td>  1</td><td>...</td><td>  1</td><td>  0</td><td>  0</td><td>  1</td><td>  0</td><td>  0</td><td>  0</td><td>  1</td><td>  0</td><td>  1</td></tr>\n",
       "\t<tr><td>ENSG00000236743.1 </td><td>RP5-857K21.15    </td><td>  0</td><td>  0</td><td>  0</td><td>  0</td><td>  0</td><td>  0</td><td>  0</td><td>  0</td><td>...</td><td>  1</td><td>  0</td><td>  0</td><td>  0</td><td>  0</td><td>  0</td><td>  0</td><td>  0</td><td>  0</td><td>  0</td></tr>\n",
       "\t<tr><td>ENSG00000236601.2 </td><td>RP4-669L17.2     </td><td>  0</td><td>  0</td><td>  0</td><td>  0</td><td>  1</td><td>  2</td><td>  0</td><td>  0</td><td>...</td><td>  0</td><td>  0</td><td>  0</td><td>  1</td><td>  0</td><td>  1</td><td>  0</td><td>  0</td><td>  0</td><td>  1</td></tr>\n",
       "\t<tr><td>ENSG00000237094.11</td><td>RP4-669L17.10    </td><td> 15</td><td> 19</td><td> 39</td><td> 36</td><td> 39</td><td> 36</td><td> 26</td><td> 23</td><td>...</td><td> 45</td><td> 51</td><td> 57</td><td> 12</td><td> 22</td><td> 24</td><td> 31</td><td> 18</td><td> 19</td><td> 28</td></tr>\n",
       "\t<tr><td>ENSG00000269732.1 </td><td>WBP1LP7          </td><td>  0</td><td>  0</td><td>  2</td><td>  0</td><td>  3</td><td>  1</td><td>  0</td><td>  0</td><td>...</td><td>  1</td><td>  0</td><td>  0</td><td>  0</td><td>  0</td><td>  0</td><td>  0</td><td>  0</td><td>  1</td><td>  0</td></tr>\n",
       "\t<tr><td>ENSG00000278566.1 </td><td>OR4F29           </td><td>  0</td><td>  0</td><td>  0</td><td>  1</td><td>  0</td><td>  0</td><td>  0</td><td>  1</td><td>...</td><td>  0</td><td>  1</td><td>  0</td><td>  0</td><td>  0</td><td>  2</td><td>  0</td><td>  0</td><td>  0</td><td>  1</td></tr>\n",
       "\t<tr><td>ENSG00000233653.3 </td><td>CICP7            </td><td>  2</td><td>  2</td><td>  2</td><td>  2</td><td>  2</td><td>  1</td><td>  0</td><td>  0</td><td>...</td><td>  0</td><td>  0</td><td>  0</td><td>  0</td><td>  0</td><td>  0</td><td>  0</td><td>  1</td><td>  0</td><td>  0</td></tr>\n",
       "\t<tr><td>ENSG00000250575.1 </td><td>RP4-669L17.8     </td><td>  0</td><td>  4</td><td>  1</td><td>  2</td><td>  3</td><td>  1</td><td>  1</td><td>  1</td><td>...</td><td>  0</td><td>  1</td><td>  0</td><td>  0</td><td>  0</td><td>  0</td><td>  0</td><td>  0</td><td>  1</td><td>  2</td></tr>\n",
       "\t<tr><td>ENSG00000278757.1 </td><td>U6               </td><td>  0</td><td>  0</td><td>  0</td><td>  0</td><td>  0</td><td>  0</td><td>  0</td><td>  0</td><td>...</td><td>  0</td><td>  0</td><td>  0</td><td>  0</td><td>  0</td><td>  0</td><td>  0</td><td>  0</td><td>  0</td><td>  0</td></tr>\n",
       "\t<tr><td>ENSG00000230021.8 </td><td>RP5-857K21.4     </td><td>  6</td><td>  8</td><td>  4</td><td>  8</td><td>  4</td><td>  3</td><td>  4</td><td>  5</td><td>...</td><td>  0</td><td>  2</td><td>  3</td><td>  3</td><td>  3</td><td>  4</td><td>  2</td><td>  2</td><td>  3</td><td>  4</td></tr>\n",
       "\t<tr><td>...</td><td>...</td><td>...</td><td>...</td><td>...</td><td>...</td><td>...</td><td>...</td><td>...</td><td>...</td><td></td><td>...</td><td>...</td><td>...</td><td>...</td><td>...</td><td>...</td><td>...</td><td>...</td><td>...</td><td>...</td></tr>\n",
       "\t<tr><td>ENSG00000210107.1</td><td>MT-TQ  </td><td>      0</td><td>      0</td><td>     0</td><td>      1</td><td>     1</td><td>      0</td><td>     0</td><td>      3</td><td>...</td><td>      0</td><td>      1</td><td>      0</td><td>     0</td><td>     0</td><td>      0</td><td>      0</td><td>     0</td><td>     1</td><td>      0</td></tr>\n",
       "\t<tr><td>ENSG00000210112.1</td><td>MT-TM  </td><td>      2</td><td>      1</td><td>     1</td><td>      0</td><td>     0</td><td>      3</td><td>     0</td><td>      0</td><td>...</td><td>      0</td><td>      1</td><td>      0</td><td>     0</td><td>     1</td><td>      0</td><td>      0</td><td>     2</td><td>     1</td><td>      3</td></tr>\n",
       "\t<tr><td>ENSG00000198763.3</td><td>MT-ND2 </td><td> 401331</td><td> 644517</td><td>325407</td><td> 310313</td><td>152580</td><td> 254585</td><td>318223</td><td> 599132</td><td>...</td><td> 342909</td><td> 342588</td><td> 296893</td><td>167317</td><td>224433</td><td> 418134</td><td> 337513</td><td>197131</td><td>205952</td><td> 305525</td></tr>\n",
       "\t<tr><td>ENSG00000210117.1</td><td>MT-TW  </td><td>      0</td><td>      0</td><td>     0</td><td>      1</td><td>     0</td><td>      1</td><td>     0</td><td>      2</td><td>...</td><td>      0</td><td>      0</td><td>      0</td><td>     0</td><td>     0</td><td>      0</td><td>      0</td><td>     0</td><td>     0</td><td>      1</td></tr>\n",
       "\t<tr><td>ENSG00000210127.1</td><td>MT-TA  </td><td>      3</td><td>      3</td><td>     4</td><td>      5</td><td>     0</td><td>      0</td><td>     0</td><td>      3</td><td>...</td><td>      0</td><td>      2</td><td>      1</td><td>     2</td><td>     0</td><td>      2</td><td>      0</td><td>     1</td><td>     1</td><td>      1</td></tr>\n",
       "\t<tr><td>ENSG00000210135.1</td><td>MT-TN  </td><td>      5</td><td>      7</td><td>     4</td><td>      3</td><td>     1</td><td>      3</td><td>     0</td><td>      5</td><td>...</td><td>      2</td><td>      4</td><td>      0</td><td>     1</td><td>     0</td><td>      0</td><td>      1</td><td>     1</td><td>     3</td><td>      1</td></tr>\n",
       "\t<tr><td>ENSG00000210140.1</td><td>MT-TC  </td><td>     18</td><td>      2</td><td>     2</td><td>     10</td><td>     0</td><td>      6</td><td>     2</td><td>     18</td><td>...</td><td>      7</td><td>      3</td><td>      0</td><td>     2</td><td>     0</td><td>      2</td><td>      1</td><td>     0</td><td>     0</td><td>      0</td></tr>\n",
       "\t<tr><td>ENSG00000210144.1</td><td>MT-TY  </td><td>     30</td><td>    673</td><td>     2</td><td>     19</td><td>     0</td><td>     17</td><td>     1</td><td>     34</td><td>...</td><td>     12</td><td>     14</td><td>      8</td><td>     6</td><td>     0</td><td>     14</td><td>      3</td><td>     3</td><td>     1</td><td>     11</td></tr>\n",
       "\t<tr><td>ENSG00000198804.2</td><td>MT-CO1 </td><td>1746814</td><td>1998165</td><td>981169</td><td>1278078</td><td> 82212</td><td>1114021</td><td>333457</td><td>2071764</td><td>...</td><td>1371590</td><td>1018399</td><td>1065153</td><td>627549</td><td>221552</td><td>1936442</td><td> 897596</td><td>604216</td><td>176939</td><td>1133840</td></tr>\n",
       "\t<tr><td>ENSG00000210151.2</td><td>MT-TS1 </td><td>    229</td><td>    147</td><td>   169</td><td>    180</td><td>    21</td><td>     79</td><td>    52</td><td>    363</td><td>...</td><td>    178</td><td>    154</td><td>    180</td><td>    68</td><td>    52</td><td>    364</td><td>    145</td><td>   109</td><td>    26</td><td>    171</td></tr>\n",
       "\t<tr><td>ENSG00000210154.1</td><td>MT-TD  </td><td>      1</td><td>      1</td><td>     1</td><td>      0</td><td>     0</td><td>      0</td><td>     0</td><td>      1</td><td>...</td><td>      0</td><td>      0</td><td>      1</td><td>     0</td><td>     0</td><td>      1</td><td>      0</td><td>     0</td><td>     0</td><td>      0</td></tr>\n",
       "\t<tr><td>ENSG00000198712.1</td><td>MT-CO2 </td><td> 563143</td><td>1064812</td><td>421137</td><td> 342348</td><td>171906</td><td> 493491</td><td>308337</td><td> 672854</td><td>...</td><td> 475772</td><td> 401816</td><td> 388916</td><td>277713</td><td>224847</td><td> 639165</td><td> 501275</td><td>218974</td><td>189448</td><td> 455605</td></tr>\n",
       "\t<tr><td>ENSG00000210156.1</td><td>MT-TK  </td><td>      0</td><td>      0</td><td>     0</td><td>      1</td><td>     0</td><td>      1</td><td>     0</td><td>      0</td><td>...</td><td>      0</td><td>      0</td><td>      0</td><td>     0</td><td>     0</td><td>      0</td><td>      0</td><td>     0</td><td>     0</td><td>      0</td></tr>\n",
       "\t<tr><td>ENSG00000228253.1</td><td>MT-ATP8</td><td>  96445</td><td> 140219</td><td> 67329</td><td>  55583</td><td> 44019</td><td>  57878</td><td> 52331</td><td> 116008</td><td>...</td><td>  76776</td><td>  44564</td><td>  45398</td><td> 44192</td><td> 33287</td><td>  90011</td><td>  68997</td><td> 28813</td><td> 34534</td><td>  66682</td></tr>\n",
       "\t<tr><td>ENSG00000198899.2</td><td>MT-ATP6</td><td> 550091</td><td> 740166</td><td>380679</td><td> 341671</td><td>259237</td><td> 367578</td><td>295541</td><td> 691713</td><td>...</td><td> 441574</td><td> 305014</td><td> 296653</td><td>237523</td><td>192205</td><td> 547485</td><td> 408524</td><td>193758</td><td>223748</td><td> 414442</td></tr>\n",
       "\t<tr><td>ENSG00000198938.2</td><td>MT-CO3 </td><td> 591693</td><td> 995376</td><td>538152</td><td> 387084</td><td>358517</td><td> 444098</td><td>410575</td><td> 846938</td><td>...</td><td> 523329</td><td> 437792</td><td> 445485</td><td>375730</td><td>298548</td><td> 876664</td><td> 763355</td><td>383846</td><td>371445</td><td> 572142</td></tr>\n",
       "\t<tr><td>ENSG00000210164.1</td><td>MT-TG  </td><td>      1</td><td>      2</td><td>     1</td><td>      3</td><td>     0</td><td>      1</td><td>     0</td><td>      1</td><td>...</td><td>      0</td><td>      0</td><td>      1</td><td>     0</td><td>     0</td><td>      0</td><td>      0</td><td>     1</td><td>     1</td><td>      0</td></tr>\n",
       "\t<tr><td>ENSG00000198840.2</td><td>MT-ND3 </td><td> 111825</td><td> 169782</td><td> 78247</td><td>  89307</td><td> 83992</td><td>  97643</td><td> 80571</td><td> 177988</td><td>...</td><td> 110136</td><td>  79892</td><td>  89577</td><td> 69190</td><td> 67948</td><td>  93723</td><td>  82945</td><td> 71226</td><td> 61179</td><td> 110873</td></tr>\n",
       "\t<tr><td>ENSG00000210174.1</td><td>MT-TR  </td><td>      0</td><td>      2</td><td>     0</td><td>      0</td><td>     1</td><td>      1</td><td>     0</td><td>      0</td><td>...</td><td>      0</td><td>      0</td><td>      2</td><td>     0</td><td>     1</td><td>      0</td><td>      1</td><td>     0</td><td>     0</td><td>      1</td></tr>\n",
       "\t<tr><td>ENSG00000212907.2</td><td>MT-ND4L</td><td> 117364</td><td> 189216</td><td> 79743</td><td>  83378</td><td> 30300</td><td>  75703</td><td> 63163</td><td> 145654</td><td>...</td><td> 119175</td><td>  89497</td><td>  88976</td><td> 62730</td><td> 47980</td><td> 152735</td><td> 144592</td><td> 64815</td><td> 38385</td><td> 118872</td></tr>\n",
       "\t<tr><td>ENSG00000198886.2</td><td>MT-ND4 </td><td>1150962</td><td>1829837</td><td>922646</td><td> 879048</td><td>336838</td><td> 879967</td><td>677624</td><td>1543481</td><td>...</td><td>1117312</td><td> 718444</td><td> 768162</td><td>603633</td><td>462358</td><td>1205273</td><td>1140364</td><td>552971</td><td>333815</td><td> 906493</td></tr>\n",
       "\t<tr><td>ENSG00000210176.1</td><td>MT-TH  </td><td>      6</td><td>      5</td><td>     0</td><td>      2</td><td>     1</td><td>      2</td><td>     1</td><td>      0</td><td>...</td><td>      0</td><td>      1</td><td>      2</td><td>     1</td><td>     0</td><td>      0</td><td>      1</td><td>     0</td><td>     1</td><td>      1</td></tr>\n",
       "\t<tr><td>ENSG00000210184.1</td><td>MT-TS2 </td><td>      0</td><td>      2</td><td>     0</td><td>      7</td><td>     0</td><td>      1</td><td>     0</td><td>      1</td><td>...</td><td>      0</td><td>      1</td><td>      0</td><td>     1</td><td>     1</td><td>      0</td><td>      0</td><td>     0</td><td>     0</td><td>      1</td></tr>\n",
       "\t<tr><td>ENSG00000210191.1</td><td>MT-TL2 </td><td>      2</td><td>      1</td><td>     1</td><td>      2</td><td>     1</td><td>      0</td><td>     0</td><td>      2</td><td>...</td><td>      1</td><td>      0</td><td>      0</td><td>     0</td><td>     0</td><td>      0</td><td>      1</td><td>     1</td><td>     0</td><td>      0</td></tr>\n",
       "\t<tr><td>ENSG00000198786.2</td><td>MT-ND5 </td><td> 564483</td><td> 300942</td><td>126424</td><td> 342535</td><td> 52168</td><td> 219054</td><td> 89866</td><td> 880636</td><td>...</td><td> 320837</td><td> 153948</td><td> 114440</td><td> 92101</td><td> 53352</td><td> 154881</td><td> 110403</td><td> 67831</td><td> 61347</td><td> 140760</td></tr>\n",
       "\t<tr><td>ENSG00000198695.2</td><td>MT-ND6 </td><td> 239080</td><td>  86377</td><td> 33708</td><td> 125893</td><td>  9096</td><td>  83718</td><td> 19391</td><td> 408439</td><td>...</td><td>  96241</td><td>  39072</td><td>  20673</td><td> 19128</td><td>  8065</td><td>  29292</td><td>  16748</td><td> 10482</td><td>  9674</td><td>  28098</td></tr>\n",
       "\t<tr><td>ENSG00000210194.1</td><td>MT-TE  </td><td>     92</td><td>     42</td><td>     9</td><td>     72</td><td>     1</td><td>     38</td><td>     2</td><td>    235</td><td>...</td><td>     52</td><td>     14</td><td>      2</td><td>     5</td><td>     2</td><td>     14</td><td>      7</td><td>     2</td><td>     2</td><td>      3</td></tr>\n",
       "\t<tr><td>ENSG00000198727.2</td><td>MT-CYB </td><td> 640359</td><td>1009083</td><td>473886</td><td> 473175</td><td>178359</td><td> 485043</td><td>405076</td><td> 902290</td><td>...</td><td> 555512</td><td> 479251</td><td> 423009</td><td>343343</td><td>262085</td><td> 569778</td><td> 540130</td><td>296838</td><td>327840</td><td> 467181</td></tr>\n",
       "\t<tr><td>ENSG00000210195.2</td><td>MT-TT  </td><td>      1</td><td>      2</td><td>     1</td><td>      0</td><td>     0</td><td>      3</td><td>     2</td><td>      3</td><td>...</td><td>      0</td><td>      1</td><td>      0</td><td>     0</td><td>     0</td><td>      0</td><td>      0</td><td>     1</td><td>     0</td><td>      0</td></tr>\n",
       "\t<tr><td>ENSG00000210196.2</td><td>MT-TP  </td><td>      3</td><td>      5</td><td>     4</td><td>      2</td><td>     0</td><td>      3</td><td>     0</td><td>      3</td><td>...</td><td>      0</td><td>      5</td><td>      3</td><td>     1</td><td>     0</td><td>      0</td><td>      1</td><td>     1</td><td>     0</td><td>      1</td></tr>\n",
       "</tbody>\n",
       "</table>\n"
      ],
      "text/latex": [
       "A spec\\_tbl\\_df: 56200 × 138\n",
       "\\begin{tabular}{lllllllllllllllllllll}\n",
       " Name & Description & GTEX-11EM3-0126 & GTEX-11EQ9-0626 & GTEX-11LCK-0526 & GTEX-11NSD-0126 & GTEX-11O72-2326 & GTEX-11P7K-0226 & GTEX-11P81-0126 & GTEX-11P82-0226 & ... & GTEX-1QP9N-0126 & GTEX-1QPFJ-0626 & GTEX-1QW4Y-0226 & GTEX-1R9JW-0226 & GTEX-1R9PM-0226 & GTEX-1RAZA-0826 & GTEX-1RAZQ-0926 & GTEX-1RAZR-1126 & GTEX-1S5ZU-0726 & GTEX-1S83E-0726\\\\\n",
       " <chr> & <chr> & <dbl> & <dbl> & <dbl> & <dbl> & <dbl> & <dbl> & <dbl> & <dbl> & ... & <dbl> & <dbl> & <dbl> & <dbl> & <dbl> & <dbl> & <dbl> & <dbl> & <dbl> & <dbl>\\\\\n",
       "\\hline\n",
       "\t ENSG00000223972.5  & DDX11L1           &   0 &   1 &   0 &   0 &   0 &   0 &   0 &   3 & ... &   0 &   0 &   0 &   0 &   0 &   0 &   1 &   0 &   1 &   1\\\\\n",
       "\t ENSG00000227232.5  & WASH7P            & 122 & 174 &  85 & 115 & 197 & 263 & 119 & 125 & ... & 111 & 183 & 124 &  74 & 191 & 251 & 246 &  91 & 169 & 162\\\\\n",
       "\t ENSG00000278267.1  & MIR6859-1         &   0 &   0 &   0 &   0 &   0 &   0 &   0 &   0 & ... &   0 &   0 &   0 &   0 &   1 &   1 &   0 &   0 &   0 &   0\\\\\n",
       "\t ENSG00000243485.5  & MIR1302-2HG       &   3 &   0 &   1 &   0 &   0 &   0 &   0 &   0 & ... &   0 &   0 &   0 &   0 &   0 &   0 &   0 &   0 &   0 &   1\\\\\n",
       "\t ENSG00000237613.2  & FAM138A           &   1 &   0 &   0 &   1 &   0 &   0 &   0 &   0 & ... &   0 &   0 &   0 &   1 &   0 &   0 &   0 &   0 &   0 &   0\\\\\n",
       "\t ENSG00000268020.3  & OR4G4P            &   1 &   1 &   1 &   1 &   0 &   0 &   0 &   0 & ... &   0 &   0 &   0 &   1 &   0 &   0 &   1 &   0 &   1 &   1\\\\\n",
       "\t ENSG00000240361.1  & OR4G11P           &   1 &   5 &   1 &   0 &   0 &   2 &   1 &   3 & ... &   0 &   1 &   0 &   0 &   0 &   1 &   0 &   1 &   1 &   1\\\\\n",
       "\t ENSG00000186092.4  & OR4F5             &   0 &   1 &   0 &   2 &   1 &   2 &   1 &   1 & ... &   0 &   0 &   0 &   1 &   0 &   1 &   2 &   7 &   3 &   1\\\\\n",
       "\t ENSG00000238009.6  & RP11-34P13.7      &   3 &   1 &   5 &   3 &   0 &   1 &   3 &   0 & ... &   0 &   5 &   2 &   0 &   4 &   0 &   0 &   0 &   1 &   0\\\\\n",
       "\t ENSG00000233750.3  & CICP27            &   4 &   2 &  11 &  11 &   2 &  11 &   6 &   1 & ... &   4 &   2 &  12 &  13 &   0 &   2 &   8 &   7 &   6 &   0\\\\\n",
       "\t ENSG00000268903.1  & RP11-34P13.15     & 174 &  73 & 225 & 163 & 313 &  87 &  72 &  96 & ... &  52 & 179 & 154 & 130 &  47 &  41 & 227 &  79 & 119 &  74\\\\\n",
       "\t ENSG00000269981.1  & RP11-34P13.16     & 114 &  69 & 145 & 146 & 134 &  70 &  57 &  50 & ... &  52 & 134 & 120 & 132 &  25 &  27 & 212 &  37 & 122 &  49\\\\\n",
       "\t ENSG00000239906.1  & RP11-34P13.14     &   0 &   1 &  10 &   0 &  13 &   1 &   9 &   0 & ... &   0 &  11 &   4 &   3 &   2 &   0 &  11 &   1 &   0 &   0\\\\\n",
       "\t ENSG00000241860.6  & RP11-34P13.13     &  35 &  18 &  63 &  22 &  63 &  23 &  77 &   9 & ... &  33 &  27 &   7 &   2 &  41 &  14 &  35 &  18 &  66 &  79\\\\\n",
       "\t ENSG00000222623.1  & RNU6-1100P        &   0 &   0 &   0 &   0 &   0 &   0 &   0 &   0 & ... &   0 &   0 &   0 &   0 &   0 &   0 &   0 &   0 &   0 &   0\\\\\n",
       "\t ENSG00000241599.1  & RP11-34P13.9      &   0 &   0 &   0 &   0 &   0 &   0 &   0 &   0 & ... &   0 &   0 &   0 &   0 &   0 &   0 &   0 &   0 &   0 &   0\\\\\n",
       "\t ENSG00000279928.2  & ABC7-43046700E7.1 &   1 &  10 &   0 &   0 &   2 &   2 &   2 &   2 & ... &   4 &   0 &   0 &   6 &   2 &   0 &  12 &   1 &   0 &   0\\\\\n",
       "\t ENSG00000279457.4  & RP11-34P13.18     & 241 & 388 &  84 & 370 & 368 & 156 & 303 & 141 & ... & 590 & 291 & 422 & 336 & 288 & 366 & 267 & 235 & 240 & 454\\\\\n",
       "\t ENSG00000273874.1  & MIR6859-2         &   0 &   0 &   0 &   0 &   0 &   0 &   0 &   0 & ... &   0 &   0 &   0 &   0 &   0 &   0 &   0 &   0 &   0 &   0\\\\\n",
       "\t ENSG00000228463.9  & AP006222.2        &   6 &  19 &  40 &  44 &   3 &  23 &  72 &  35 & ... &   0 &  28 &  51 &  35 &  33 &  63 &  37 &  45 &   4 &  87\\\\\n",
       "\t ENSG00000236679.2  & RPL23AP24         &   1 &   1 &   0 &   0 &   1 &   1 &   0 &   1 & ... &   1 &   0 &   0 &   1 &   0 &   0 &   0 &   1 &   0 &   1\\\\\n",
       "\t ENSG00000236743.1  & RP5-857K21.15     &   0 &   0 &   0 &   0 &   0 &   0 &   0 &   0 & ... &   1 &   0 &   0 &   0 &   0 &   0 &   0 &   0 &   0 &   0\\\\\n",
       "\t ENSG00000236601.2  & RP4-669L17.2      &   0 &   0 &   0 &   0 &   1 &   2 &   0 &   0 & ... &   0 &   0 &   0 &   1 &   0 &   1 &   0 &   0 &   0 &   1\\\\\n",
       "\t ENSG00000237094.11 & RP4-669L17.10     &  15 &  19 &  39 &  36 &  39 &  36 &  26 &  23 & ... &  45 &  51 &  57 &  12 &  22 &  24 &  31 &  18 &  19 &  28\\\\\n",
       "\t ENSG00000269732.1  & WBP1LP7           &   0 &   0 &   2 &   0 &   3 &   1 &   0 &   0 & ... &   1 &   0 &   0 &   0 &   0 &   0 &   0 &   0 &   1 &   0\\\\\n",
       "\t ENSG00000278566.1  & OR4F29            &   0 &   0 &   0 &   1 &   0 &   0 &   0 &   1 & ... &   0 &   1 &   0 &   0 &   0 &   2 &   0 &   0 &   0 &   1\\\\\n",
       "\t ENSG00000233653.3  & CICP7             &   2 &   2 &   2 &   2 &   2 &   1 &   0 &   0 & ... &   0 &   0 &   0 &   0 &   0 &   0 &   0 &   1 &   0 &   0\\\\\n",
       "\t ENSG00000250575.1  & RP4-669L17.8      &   0 &   4 &   1 &   2 &   3 &   1 &   1 &   1 & ... &   0 &   1 &   0 &   0 &   0 &   0 &   0 &   0 &   1 &   2\\\\\n",
       "\t ENSG00000278757.1  & U6                &   0 &   0 &   0 &   0 &   0 &   0 &   0 &   0 & ... &   0 &   0 &   0 &   0 &   0 &   0 &   0 &   0 &   0 &   0\\\\\n",
       "\t ENSG00000230021.8  & RP5-857K21.4      &   6 &   8 &   4 &   8 &   4 &   3 &   4 &   5 & ... &   0 &   2 &   3 &   3 &   3 &   4 &   2 &   2 &   3 &   4\\\\\n",
       "\t ... & ... & ... & ... & ... & ... & ... & ... & ... & ... &  & ... & ... & ... & ... & ... & ... & ... & ... & ... & ...\\\\\n",
       "\t ENSG00000210107.1 & MT-TQ   &       0 &       0 &      0 &       1 &      1 &       0 &      0 &       3 & ... &       0 &       1 &       0 &      0 &      0 &       0 &       0 &      0 &      1 &       0\\\\\n",
       "\t ENSG00000210112.1 & MT-TM   &       2 &       1 &      1 &       0 &      0 &       3 &      0 &       0 & ... &       0 &       1 &       0 &      0 &      1 &       0 &       0 &      2 &      1 &       3\\\\\n",
       "\t ENSG00000198763.3 & MT-ND2  &  401331 &  644517 & 325407 &  310313 & 152580 &  254585 & 318223 &  599132 & ... &  342909 &  342588 &  296893 & 167317 & 224433 &  418134 &  337513 & 197131 & 205952 &  305525\\\\\n",
       "\t ENSG00000210117.1 & MT-TW   &       0 &       0 &      0 &       1 &      0 &       1 &      0 &       2 & ... &       0 &       0 &       0 &      0 &      0 &       0 &       0 &      0 &      0 &       1\\\\\n",
       "\t ENSG00000210127.1 & MT-TA   &       3 &       3 &      4 &       5 &      0 &       0 &      0 &       3 & ... &       0 &       2 &       1 &      2 &      0 &       2 &       0 &      1 &      1 &       1\\\\\n",
       "\t ENSG00000210135.1 & MT-TN   &       5 &       7 &      4 &       3 &      1 &       3 &      0 &       5 & ... &       2 &       4 &       0 &      1 &      0 &       0 &       1 &      1 &      3 &       1\\\\\n",
       "\t ENSG00000210140.1 & MT-TC   &      18 &       2 &      2 &      10 &      0 &       6 &      2 &      18 & ... &       7 &       3 &       0 &      2 &      0 &       2 &       1 &      0 &      0 &       0\\\\\n",
       "\t ENSG00000210144.1 & MT-TY   &      30 &     673 &      2 &      19 &      0 &      17 &      1 &      34 & ... &      12 &      14 &       8 &      6 &      0 &      14 &       3 &      3 &      1 &      11\\\\\n",
       "\t ENSG00000198804.2 & MT-CO1  & 1746814 & 1998165 & 981169 & 1278078 &  82212 & 1114021 & 333457 & 2071764 & ... & 1371590 & 1018399 & 1065153 & 627549 & 221552 & 1936442 &  897596 & 604216 & 176939 & 1133840\\\\\n",
       "\t ENSG00000210151.2 & MT-TS1  &     229 &     147 &    169 &     180 &     21 &      79 &     52 &     363 & ... &     178 &     154 &     180 &     68 &     52 &     364 &     145 &    109 &     26 &     171\\\\\n",
       "\t ENSG00000210154.1 & MT-TD   &       1 &       1 &      1 &       0 &      0 &       0 &      0 &       1 & ... &       0 &       0 &       1 &      0 &      0 &       1 &       0 &      0 &      0 &       0\\\\\n",
       "\t ENSG00000198712.1 & MT-CO2  &  563143 & 1064812 & 421137 &  342348 & 171906 &  493491 & 308337 &  672854 & ... &  475772 &  401816 &  388916 & 277713 & 224847 &  639165 &  501275 & 218974 & 189448 &  455605\\\\\n",
       "\t ENSG00000210156.1 & MT-TK   &       0 &       0 &      0 &       1 &      0 &       1 &      0 &       0 & ... &       0 &       0 &       0 &      0 &      0 &       0 &       0 &      0 &      0 &       0\\\\\n",
       "\t ENSG00000228253.1 & MT-ATP8 &   96445 &  140219 &  67329 &   55583 &  44019 &   57878 &  52331 &  116008 & ... &   76776 &   44564 &   45398 &  44192 &  33287 &   90011 &   68997 &  28813 &  34534 &   66682\\\\\n",
       "\t ENSG00000198899.2 & MT-ATP6 &  550091 &  740166 & 380679 &  341671 & 259237 &  367578 & 295541 &  691713 & ... &  441574 &  305014 &  296653 & 237523 & 192205 &  547485 &  408524 & 193758 & 223748 &  414442\\\\\n",
       "\t ENSG00000198938.2 & MT-CO3  &  591693 &  995376 & 538152 &  387084 & 358517 &  444098 & 410575 &  846938 & ... &  523329 &  437792 &  445485 & 375730 & 298548 &  876664 &  763355 & 383846 & 371445 &  572142\\\\\n",
       "\t ENSG00000210164.1 & MT-TG   &       1 &       2 &      1 &       3 &      0 &       1 &      0 &       1 & ... &       0 &       0 &       1 &      0 &      0 &       0 &       0 &      1 &      1 &       0\\\\\n",
       "\t ENSG00000198840.2 & MT-ND3  &  111825 &  169782 &  78247 &   89307 &  83992 &   97643 &  80571 &  177988 & ... &  110136 &   79892 &   89577 &  69190 &  67948 &   93723 &   82945 &  71226 &  61179 &  110873\\\\\n",
       "\t ENSG00000210174.1 & MT-TR   &       0 &       2 &      0 &       0 &      1 &       1 &      0 &       0 & ... &       0 &       0 &       2 &      0 &      1 &       0 &       1 &      0 &      0 &       1\\\\\n",
       "\t ENSG00000212907.2 & MT-ND4L &  117364 &  189216 &  79743 &   83378 &  30300 &   75703 &  63163 &  145654 & ... &  119175 &   89497 &   88976 &  62730 &  47980 &  152735 &  144592 &  64815 &  38385 &  118872\\\\\n",
       "\t ENSG00000198886.2 & MT-ND4  & 1150962 & 1829837 & 922646 &  879048 & 336838 &  879967 & 677624 & 1543481 & ... & 1117312 &  718444 &  768162 & 603633 & 462358 & 1205273 & 1140364 & 552971 & 333815 &  906493\\\\\n",
       "\t ENSG00000210176.1 & MT-TH   &       6 &       5 &      0 &       2 &      1 &       2 &      1 &       0 & ... &       0 &       1 &       2 &      1 &      0 &       0 &       1 &      0 &      1 &       1\\\\\n",
       "\t ENSG00000210184.1 & MT-TS2  &       0 &       2 &      0 &       7 &      0 &       1 &      0 &       1 & ... &       0 &       1 &       0 &      1 &      1 &       0 &       0 &      0 &      0 &       1\\\\\n",
       "\t ENSG00000210191.1 & MT-TL2  &       2 &       1 &      1 &       2 &      1 &       0 &      0 &       2 & ... &       1 &       0 &       0 &      0 &      0 &       0 &       1 &      1 &      0 &       0\\\\\n",
       "\t ENSG00000198786.2 & MT-ND5  &  564483 &  300942 & 126424 &  342535 &  52168 &  219054 &  89866 &  880636 & ... &  320837 &  153948 &  114440 &  92101 &  53352 &  154881 &  110403 &  67831 &  61347 &  140760\\\\\n",
       "\t ENSG00000198695.2 & MT-ND6  &  239080 &   86377 &  33708 &  125893 &   9096 &   83718 &  19391 &  408439 & ... &   96241 &   39072 &   20673 &  19128 &   8065 &   29292 &   16748 &  10482 &   9674 &   28098\\\\\n",
       "\t ENSG00000210194.1 & MT-TE   &      92 &      42 &      9 &      72 &      1 &      38 &      2 &     235 & ... &      52 &      14 &       2 &      5 &      2 &      14 &       7 &      2 &      2 &       3\\\\\n",
       "\t ENSG00000198727.2 & MT-CYB  &  640359 & 1009083 & 473886 &  473175 & 178359 &  485043 & 405076 &  902290 & ... &  555512 &  479251 &  423009 & 343343 & 262085 &  569778 &  540130 & 296838 & 327840 &  467181\\\\\n",
       "\t ENSG00000210195.2 & MT-TT   &       1 &       2 &      1 &       0 &      0 &       3 &      2 &       3 & ... &       0 &       1 &       0 &      0 &      0 &       0 &       0 &      1 &      0 &       0\\\\\n",
       "\t ENSG00000210196.2 & MT-TP   &       3 &       5 &      4 &       2 &      0 &       3 &      0 &       3 & ... &       0 &       5 &       3 &      1 &      0 &       0 &       1 &      1 &      0 &       1\\\\\n",
       "\\end{tabular}\n"
      ],
      "text/markdown": [
       "\n",
       "A spec_tbl_df: 56200 × 138\n",
       "\n",
       "| Name &lt;chr&gt; | Description &lt;chr&gt; | GTEX-11EM3-0126 &lt;dbl&gt; | GTEX-11EQ9-0626 &lt;dbl&gt; | GTEX-11LCK-0526 &lt;dbl&gt; | GTEX-11NSD-0126 &lt;dbl&gt; | GTEX-11O72-2326 &lt;dbl&gt; | GTEX-11P7K-0226 &lt;dbl&gt; | GTEX-11P81-0126 &lt;dbl&gt; | GTEX-11P82-0226 &lt;dbl&gt; | ... ... | GTEX-1QP9N-0126 &lt;dbl&gt; | GTEX-1QPFJ-0626 &lt;dbl&gt; | GTEX-1QW4Y-0226 &lt;dbl&gt; | GTEX-1R9JW-0226 &lt;dbl&gt; | GTEX-1R9PM-0226 &lt;dbl&gt; | GTEX-1RAZA-0826 &lt;dbl&gt; | GTEX-1RAZQ-0926 &lt;dbl&gt; | GTEX-1RAZR-1126 &lt;dbl&gt; | GTEX-1S5ZU-0726 &lt;dbl&gt; | GTEX-1S83E-0726 &lt;dbl&gt; |\n",
       "|---|---|---|---|---|---|---|---|---|---|---|---|---|---|---|---|---|---|---|---|---|\n",
       "| ENSG00000223972.5  | DDX11L1           |   0 |   1 |   0 |   0 |   0 |   0 |   0 |   3 | ... |   0 |   0 |   0 |   0 |   0 |   0 |   1 |   0 |   1 |   1 |\n",
       "| ENSG00000227232.5  | WASH7P            | 122 | 174 |  85 | 115 | 197 | 263 | 119 | 125 | ... | 111 | 183 | 124 |  74 | 191 | 251 | 246 |  91 | 169 | 162 |\n",
       "| ENSG00000278267.1  | MIR6859-1         |   0 |   0 |   0 |   0 |   0 |   0 |   0 |   0 | ... |   0 |   0 |   0 |   0 |   1 |   1 |   0 |   0 |   0 |   0 |\n",
       "| ENSG00000243485.5  | MIR1302-2HG       |   3 |   0 |   1 |   0 |   0 |   0 |   0 |   0 | ... |   0 |   0 |   0 |   0 |   0 |   0 |   0 |   0 |   0 |   1 |\n",
       "| ENSG00000237613.2  | FAM138A           |   1 |   0 |   0 |   1 |   0 |   0 |   0 |   0 | ... |   0 |   0 |   0 |   1 |   0 |   0 |   0 |   0 |   0 |   0 |\n",
       "| ENSG00000268020.3  | OR4G4P            |   1 |   1 |   1 |   1 |   0 |   0 |   0 |   0 | ... |   0 |   0 |   0 |   1 |   0 |   0 |   1 |   0 |   1 |   1 |\n",
       "| ENSG00000240361.1  | OR4G11P           |   1 |   5 |   1 |   0 |   0 |   2 |   1 |   3 | ... |   0 |   1 |   0 |   0 |   0 |   1 |   0 |   1 |   1 |   1 |\n",
       "| ENSG00000186092.4  | OR4F5             |   0 |   1 |   0 |   2 |   1 |   2 |   1 |   1 | ... |   0 |   0 |   0 |   1 |   0 |   1 |   2 |   7 |   3 |   1 |\n",
       "| ENSG00000238009.6  | RP11-34P13.7      |   3 |   1 |   5 |   3 |   0 |   1 |   3 |   0 | ... |   0 |   5 |   2 |   0 |   4 |   0 |   0 |   0 |   1 |   0 |\n",
       "| ENSG00000233750.3  | CICP27            |   4 |   2 |  11 |  11 |   2 |  11 |   6 |   1 | ... |   4 |   2 |  12 |  13 |   0 |   2 |   8 |   7 |   6 |   0 |\n",
       "| ENSG00000268903.1  | RP11-34P13.15     | 174 |  73 | 225 | 163 | 313 |  87 |  72 |  96 | ... |  52 | 179 | 154 | 130 |  47 |  41 | 227 |  79 | 119 |  74 |\n",
       "| ENSG00000269981.1  | RP11-34P13.16     | 114 |  69 | 145 | 146 | 134 |  70 |  57 |  50 | ... |  52 | 134 | 120 | 132 |  25 |  27 | 212 |  37 | 122 |  49 |\n",
       "| ENSG00000239906.1  | RP11-34P13.14     |   0 |   1 |  10 |   0 |  13 |   1 |   9 |   0 | ... |   0 |  11 |   4 |   3 |   2 |   0 |  11 |   1 |   0 |   0 |\n",
       "| ENSG00000241860.6  | RP11-34P13.13     |  35 |  18 |  63 |  22 |  63 |  23 |  77 |   9 | ... |  33 |  27 |   7 |   2 |  41 |  14 |  35 |  18 |  66 |  79 |\n",
       "| ENSG00000222623.1  | RNU6-1100P        |   0 |   0 |   0 |   0 |   0 |   0 |   0 |   0 | ... |   0 |   0 |   0 |   0 |   0 |   0 |   0 |   0 |   0 |   0 |\n",
       "| ENSG00000241599.1  | RP11-34P13.9      |   0 |   0 |   0 |   0 |   0 |   0 |   0 |   0 | ... |   0 |   0 |   0 |   0 |   0 |   0 |   0 |   0 |   0 |   0 |\n",
       "| ENSG00000279928.2  | ABC7-43046700E7.1 |   1 |  10 |   0 |   0 |   2 |   2 |   2 |   2 | ... |   4 |   0 |   0 |   6 |   2 |   0 |  12 |   1 |   0 |   0 |\n",
       "| ENSG00000279457.4  | RP11-34P13.18     | 241 | 388 |  84 | 370 | 368 | 156 | 303 | 141 | ... | 590 | 291 | 422 | 336 | 288 | 366 | 267 | 235 | 240 | 454 |\n",
       "| ENSG00000273874.1  | MIR6859-2         |   0 |   0 |   0 |   0 |   0 |   0 |   0 |   0 | ... |   0 |   0 |   0 |   0 |   0 |   0 |   0 |   0 |   0 |   0 |\n",
       "| ENSG00000228463.9  | AP006222.2        |   6 |  19 |  40 |  44 |   3 |  23 |  72 |  35 | ... |   0 |  28 |  51 |  35 |  33 |  63 |  37 |  45 |   4 |  87 |\n",
       "| ENSG00000236679.2  | RPL23AP24         |   1 |   1 |   0 |   0 |   1 |   1 |   0 |   1 | ... |   1 |   0 |   0 |   1 |   0 |   0 |   0 |   1 |   0 |   1 |\n",
       "| ENSG00000236743.1  | RP5-857K21.15     |   0 |   0 |   0 |   0 |   0 |   0 |   0 |   0 | ... |   1 |   0 |   0 |   0 |   0 |   0 |   0 |   0 |   0 |   0 |\n",
       "| ENSG00000236601.2  | RP4-669L17.2      |   0 |   0 |   0 |   0 |   1 |   2 |   0 |   0 | ... |   0 |   0 |   0 |   1 |   0 |   1 |   0 |   0 |   0 |   1 |\n",
       "| ENSG00000237094.11 | RP4-669L17.10     |  15 |  19 |  39 |  36 |  39 |  36 |  26 |  23 | ... |  45 |  51 |  57 |  12 |  22 |  24 |  31 |  18 |  19 |  28 |\n",
       "| ENSG00000269732.1  | WBP1LP7           |   0 |   0 |   2 |   0 |   3 |   1 |   0 |   0 | ... |   1 |   0 |   0 |   0 |   0 |   0 |   0 |   0 |   1 |   0 |\n",
       "| ENSG00000278566.1  | OR4F29            |   0 |   0 |   0 |   1 |   0 |   0 |   0 |   1 | ... |   0 |   1 |   0 |   0 |   0 |   2 |   0 |   0 |   0 |   1 |\n",
       "| ENSG00000233653.3  | CICP7             |   2 |   2 |   2 |   2 |   2 |   1 |   0 |   0 | ... |   0 |   0 |   0 |   0 |   0 |   0 |   0 |   1 |   0 |   0 |\n",
       "| ENSG00000250575.1  | RP4-669L17.8      |   0 |   4 |   1 |   2 |   3 |   1 |   1 |   1 | ... |   0 |   1 |   0 |   0 |   0 |   0 |   0 |   0 |   1 |   2 |\n",
       "| ENSG00000278757.1  | U6                |   0 |   0 |   0 |   0 |   0 |   0 |   0 |   0 | ... |   0 |   0 |   0 |   0 |   0 |   0 |   0 |   0 |   0 |   0 |\n",
       "| ENSG00000230021.8  | RP5-857K21.4      |   6 |   8 |   4 |   8 |   4 |   3 |   4 |   5 | ... |   0 |   2 |   3 |   3 |   3 |   4 |   2 |   2 |   3 |   4 |\n",
       "| ... | ... | ... | ... | ... | ... | ... | ... | ... | ... | <!----> | ... | ... | ... | ... | ... | ... | ... | ... | ... | ... |\n",
       "| ENSG00000210107.1 | MT-TQ   |       0 |       0 |      0 |       1 |      1 |       0 |      0 |       3 | ... |       0 |       1 |       0 |      0 |      0 |       0 |       0 |      0 |      1 |       0 |\n",
       "| ENSG00000210112.1 | MT-TM   |       2 |       1 |      1 |       0 |      0 |       3 |      0 |       0 | ... |       0 |       1 |       0 |      0 |      1 |       0 |       0 |      2 |      1 |       3 |\n",
       "| ENSG00000198763.3 | MT-ND2  |  401331 |  644517 | 325407 |  310313 | 152580 |  254585 | 318223 |  599132 | ... |  342909 |  342588 |  296893 | 167317 | 224433 |  418134 |  337513 | 197131 | 205952 |  305525 |\n",
       "| ENSG00000210117.1 | MT-TW   |       0 |       0 |      0 |       1 |      0 |       1 |      0 |       2 | ... |       0 |       0 |       0 |      0 |      0 |       0 |       0 |      0 |      0 |       1 |\n",
       "| ENSG00000210127.1 | MT-TA   |       3 |       3 |      4 |       5 |      0 |       0 |      0 |       3 | ... |       0 |       2 |       1 |      2 |      0 |       2 |       0 |      1 |      1 |       1 |\n",
       "| ENSG00000210135.1 | MT-TN   |       5 |       7 |      4 |       3 |      1 |       3 |      0 |       5 | ... |       2 |       4 |       0 |      1 |      0 |       0 |       1 |      1 |      3 |       1 |\n",
       "| ENSG00000210140.1 | MT-TC   |      18 |       2 |      2 |      10 |      0 |       6 |      2 |      18 | ... |       7 |       3 |       0 |      2 |      0 |       2 |       1 |      0 |      0 |       0 |\n",
       "| ENSG00000210144.1 | MT-TY   |      30 |     673 |      2 |      19 |      0 |      17 |      1 |      34 | ... |      12 |      14 |       8 |      6 |      0 |      14 |       3 |      3 |      1 |      11 |\n",
       "| ENSG00000198804.2 | MT-CO1  | 1746814 | 1998165 | 981169 | 1278078 |  82212 | 1114021 | 333457 | 2071764 | ... | 1371590 | 1018399 | 1065153 | 627549 | 221552 | 1936442 |  897596 | 604216 | 176939 | 1133840 |\n",
       "| ENSG00000210151.2 | MT-TS1  |     229 |     147 |    169 |     180 |     21 |      79 |     52 |     363 | ... |     178 |     154 |     180 |     68 |     52 |     364 |     145 |    109 |     26 |     171 |\n",
       "| ENSG00000210154.1 | MT-TD   |       1 |       1 |      1 |       0 |      0 |       0 |      0 |       1 | ... |       0 |       0 |       1 |      0 |      0 |       1 |       0 |      0 |      0 |       0 |\n",
       "| ENSG00000198712.1 | MT-CO2  |  563143 | 1064812 | 421137 |  342348 | 171906 |  493491 | 308337 |  672854 | ... |  475772 |  401816 |  388916 | 277713 | 224847 |  639165 |  501275 | 218974 | 189448 |  455605 |\n",
       "| ENSG00000210156.1 | MT-TK   |       0 |       0 |      0 |       1 |      0 |       1 |      0 |       0 | ... |       0 |       0 |       0 |      0 |      0 |       0 |       0 |      0 |      0 |       0 |\n",
       "| ENSG00000228253.1 | MT-ATP8 |   96445 |  140219 |  67329 |   55583 |  44019 |   57878 |  52331 |  116008 | ... |   76776 |   44564 |   45398 |  44192 |  33287 |   90011 |   68997 |  28813 |  34534 |   66682 |\n",
       "| ENSG00000198899.2 | MT-ATP6 |  550091 |  740166 | 380679 |  341671 | 259237 |  367578 | 295541 |  691713 | ... |  441574 |  305014 |  296653 | 237523 | 192205 |  547485 |  408524 | 193758 | 223748 |  414442 |\n",
       "| ENSG00000198938.2 | MT-CO3  |  591693 |  995376 | 538152 |  387084 | 358517 |  444098 | 410575 |  846938 | ... |  523329 |  437792 |  445485 | 375730 | 298548 |  876664 |  763355 | 383846 | 371445 |  572142 |\n",
       "| ENSG00000210164.1 | MT-TG   |       1 |       2 |      1 |       3 |      0 |       1 |      0 |       1 | ... |       0 |       0 |       1 |      0 |      0 |       0 |       0 |      1 |      1 |       0 |\n",
       "| ENSG00000198840.2 | MT-ND3  |  111825 |  169782 |  78247 |   89307 |  83992 |   97643 |  80571 |  177988 | ... |  110136 |   79892 |   89577 |  69190 |  67948 |   93723 |   82945 |  71226 |  61179 |  110873 |\n",
       "| ENSG00000210174.1 | MT-TR   |       0 |       2 |      0 |       0 |      1 |       1 |      0 |       0 | ... |       0 |       0 |       2 |      0 |      1 |       0 |       1 |      0 |      0 |       1 |\n",
       "| ENSG00000212907.2 | MT-ND4L |  117364 |  189216 |  79743 |   83378 |  30300 |   75703 |  63163 |  145654 | ... |  119175 |   89497 |   88976 |  62730 |  47980 |  152735 |  144592 |  64815 |  38385 |  118872 |\n",
       "| ENSG00000198886.2 | MT-ND4  | 1150962 | 1829837 | 922646 |  879048 | 336838 |  879967 | 677624 | 1543481 | ... | 1117312 |  718444 |  768162 | 603633 | 462358 | 1205273 | 1140364 | 552971 | 333815 |  906493 |\n",
       "| ENSG00000210176.1 | MT-TH   |       6 |       5 |      0 |       2 |      1 |       2 |      1 |       0 | ... |       0 |       1 |       2 |      1 |      0 |       0 |       1 |      0 |      1 |       1 |\n",
       "| ENSG00000210184.1 | MT-TS2  |       0 |       2 |      0 |       7 |      0 |       1 |      0 |       1 | ... |       0 |       1 |       0 |      1 |      1 |       0 |       0 |      0 |      0 |       1 |\n",
       "| ENSG00000210191.1 | MT-TL2  |       2 |       1 |      1 |       2 |      1 |       0 |      0 |       2 | ... |       1 |       0 |       0 |      0 |      0 |       0 |       1 |      1 |      0 |       0 |\n",
       "| ENSG00000198786.2 | MT-ND5  |  564483 |  300942 | 126424 |  342535 |  52168 |  219054 |  89866 |  880636 | ... |  320837 |  153948 |  114440 |  92101 |  53352 |  154881 |  110403 |  67831 |  61347 |  140760 |\n",
       "| ENSG00000198695.2 | MT-ND6  |  239080 |   86377 |  33708 |  125893 |   9096 |   83718 |  19391 |  408439 | ... |   96241 |   39072 |   20673 |  19128 |   8065 |   29292 |   16748 |  10482 |   9674 |   28098 |\n",
       "| ENSG00000210194.1 | MT-TE   |      92 |      42 |      9 |      72 |      1 |      38 |      2 |     235 | ... |      52 |      14 |       2 |      5 |      2 |      14 |       7 |      2 |      2 |       3 |\n",
       "| ENSG00000198727.2 | MT-CYB  |  640359 | 1009083 | 473886 |  473175 | 178359 |  485043 | 405076 |  902290 | ... |  555512 |  479251 |  423009 | 343343 | 262085 |  569778 |  540130 | 296838 | 327840 |  467181 |\n",
       "| ENSG00000210195.2 | MT-TT   |       1 |       2 |      1 |       0 |      0 |       3 |      2 |       3 | ... |       0 |       1 |       0 |      0 |      0 |       0 |       0 |      1 |      0 |       0 |\n",
       "| ENSG00000210196.2 | MT-TP   |       3 |       5 |      4 |       2 |      0 |       3 |      0 |       3 | ... |       0 |       5 |       3 |      1 |      0 |       0 |       1 |      1 |      0 |       1 |\n",
       "\n"
      ],
      "text/plain": [
       "      Name               Description       GTEX-11EM3-0126 GTEX-11EQ9-0626\n",
       "1     ENSG00000223972.5  DDX11L1             0               1            \n",
       "2     ENSG00000227232.5  WASH7P            122             174            \n",
       "3     ENSG00000278267.1  MIR6859-1           0               0            \n",
       "4     ENSG00000243485.5  MIR1302-2HG         3               0            \n",
       "5     ENSG00000237613.2  FAM138A             1               0            \n",
       "6     ENSG00000268020.3  OR4G4P              1               1            \n",
       "7     ENSG00000240361.1  OR4G11P             1               5            \n",
       "8     ENSG00000186092.4  OR4F5               0               1            \n",
       "9     ENSG00000238009.6  RP11-34P13.7        3               1            \n",
       "10    ENSG00000233750.3  CICP27              4               2            \n",
       "11    ENSG00000268903.1  RP11-34P13.15     174              73            \n",
       "12    ENSG00000269981.1  RP11-34P13.16     114              69            \n",
       "13    ENSG00000239906.1  RP11-34P13.14       0               1            \n",
       "14    ENSG00000241860.6  RP11-34P13.13      35              18            \n",
       "15    ENSG00000222623.1  RNU6-1100P          0               0            \n",
       "16    ENSG00000241599.1  RP11-34P13.9        0               0            \n",
       "17    ENSG00000279928.2  ABC7-43046700E7.1   1              10            \n",
       "18    ENSG00000279457.4  RP11-34P13.18     241             388            \n",
       "19    ENSG00000273874.1  MIR6859-2           0               0            \n",
       "20    ENSG00000228463.9  AP006222.2          6              19            \n",
       "21    ENSG00000236679.2  RPL23AP24           1               1            \n",
       "22    ENSG00000236743.1  RP5-857K21.15       0               0            \n",
       "23    ENSG00000236601.2  RP4-669L17.2        0               0            \n",
       "24    ENSG00000237094.11 RP4-669L17.10      15              19            \n",
       "25    ENSG00000269732.1  WBP1LP7             0               0            \n",
       "26    ENSG00000278566.1  OR4F29              0               0            \n",
       "27    ENSG00000233653.3  CICP7               2               2            \n",
       "28    ENSG00000250575.1  RP4-669L17.8        0               4            \n",
       "29    ENSG00000278757.1  U6                  0               0            \n",
       "30    ENSG00000230021.8  RP5-857K21.4        6               8            \n",
       "...   ...                ...               ...             ...            \n",
       "56171 ENSG00000210107.1  MT-TQ                   0               0        \n",
       "56172 ENSG00000210112.1  MT-TM                   2               1        \n",
       "56173 ENSG00000198763.3  MT-ND2             401331          644517        \n",
       "56174 ENSG00000210117.1  MT-TW                   0               0        \n",
       "56175 ENSG00000210127.1  MT-TA                   3               3        \n",
       "56176 ENSG00000210135.1  MT-TN                   5               7        \n",
       "56177 ENSG00000210140.1  MT-TC                  18               2        \n",
       "56178 ENSG00000210144.1  MT-TY                  30             673        \n",
       "56179 ENSG00000198804.2  MT-CO1            1746814         1998165        \n",
       "56180 ENSG00000210151.2  MT-TS1                229             147        \n",
       "56181 ENSG00000210154.1  MT-TD                   1               1        \n",
       "56182 ENSG00000198712.1  MT-CO2             563143         1064812        \n",
       "56183 ENSG00000210156.1  MT-TK                   0               0        \n",
       "56184 ENSG00000228253.1  MT-ATP8             96445          140219        \n",
       "56185 ENSG00000198899.2  MT-ATP6            550091          740166        \n",
       "56186 ENSG00000198938.2  MT-CO3             591693          995376        \n",
       "56187 ENSG00000210164.1  MT-TG                   1               2        \n",
       "56188 ENSG00000198840.2  MT-ND3             111825          169782        \n",
       "56189 ENSG00000210174.1  MT-TR                   0               2        \n",
       "56190 ENSG00000212907.2  MT-ND4L            117364          189216        \n",
       "56191 ENSG00000198886.2  MT-ND4            1150962         1829837        \n",
       "56192 ENSG00000210176.1  MT-TH                   6               5        \n",
       "56193 ENSG00000210184.1  MT-TS2                  0               2        \n",
       "56194 ENSG00000210191.1  MT-TL2                  2               1        \n",
       "56195 ENSG00000198786.2  MT-ND5             564483          300942        \n",
       "56196 ENSG00000198695.2  MT-ND6             239080           86377        \n",
       "56197 ENSG00000210194.1  MT-TE                  92              42        \n",
       "56198 ENSG00000198727.2  MT-CYB             640359         1009083        \n",
       "56199 ENSG00000210195.2  MT-TT                   1               2        \n",
       "56200 ENSG00000210196.2  MT-TP                   3               5        \n",
       "      GTEX-11LCK-0526 GTEX-11NSD-0126 GTEX-11O72-2326 GTEX-11P7K-0226\n",
       "1       0               0               0               0            \n",
       "2      85             115             197             263            \n",
       "3       0               0               0               0            \n",
       "4       1               0               0               0            \n",
       "5       0               1               0               0            \n",
       "6       1               1               0               0            \n",
       "7       1               0               0               2            \n",
       "8       0               2               1               2            \n",
       "9       5               3               0               1            \n",
       "10     11              11               2              11            \n",
       "11    225             163             313              87            \n",
       "12    145             146             134              70            \n",
       "13     10               0              13               1            \n",
       "14     63              22              63              23            \n",
       "15      0               0               0               0            \n",
       "16      0               0               0               0            \n",
       "17      0               0               2               2            \n",
       "18     84             370             368             156            \n",
       "19      0               0               0               0            \n",
       "20     40              44               3              23            \n",
       "21      0               0               1               1            \n",
       "22      0               0               0               0            \n",
       "23      0               0               1               2            \n",
       "24     39              36              39              36            \n",
       "25      2               0               3               1            \n",
       "26      0               1               0               0            \n",
       "27      2               2               2               1            \n",
       "28      1               2               3               1            \n",
       "29      0               0               0               0            \n",
       "30      4               8               4               3            \n",
       "...   ...             ...             ...             ...            \n",
       "56171      0                1              1                0        \n",
       "56172      1                0              0                3        \n",
       "56173 325407           310313         152580           254585        \n",
       "56174      0                1              0                1        \n",
       "56175      4                5              0                0        \n",
       "56176      4                3              1                3        \n",
       "56177      2               10              0                6        \n",
       "56178      2               19              0               17        \n",
       "56179 981169          1278078          82212          1114021        \n",
       "56180    169              180             21               79        \n",
       "56181      1                0              0                0        \n",
       "56182 421137           342348         171906           493491        \n",
       "56183      0                1              0                1        \n",
       "56184  67329            55583          44019            57878        \n",
       "56185 380679           341671         259237           367578        \n",
       "56186 538152           387084         358517           444098        \n",
       "56187      1                3              0                1        \n",
       "56188  78247            89307          83992            97643        \n",
       "56189      0                0              1                1        \n",
       "56190  79743            83378          30300            75703        \n",
       "56191 922646           879048         336838           879967        \n",
       "56192      0                2              1                2        \n",
       "56193      0                7              0                1        \n",
       "56194      1                2              1                0        \n",
       "56195 126424           342535          52168           219054        \n",
       "56196  33708           125893           9096            83718        \n",
       "56197      9               72              1               38        \n",
       "56198 473886           473175         178359           485043        \n",
       "56199      1                0              0                3        \n",
       "56200      4                2              0                3        \n",
       "      GTEX-11P81-0126 GTEX-11P82-0226 ... GTEX-1QP9N-0126 GTEX-1QPFJ-0626\n",
       "1       0               3             ...   0               0            \n",
       "2     119             125             ... 111             183            \n",
       "3       0               0             ...   0               0            \n",
       "4       0               0             ...   0               0            \n",
       "5       0               0             ...   0               0            \n",
       "6       0               0             ...   0               0            \n",
       "7       1               3             ...   0               1            \n",
       "8       1               1             ...   0               0            \n",
       "9       3               0             ...   0               5            \n",
       "10      6               1             ...   4               2            \n",
       "11     72              96             ...  52             179            \n",
       "12     57              50             ...  52             134            \n",
       "13      9               0             ...   0              11            \n",
       "14     77               9             ...  33              27            \n",
       "15      0               0             ...   0               0            \n",
       "16      0               0             ...   0               0            \n",
       "17      2               2             ...   4               0            \n",
       "18    303             141             ... 590             291            \n",
       "19      0               0             ...   0               0            \n",
       "20     72              35             ...   0              28            \n",
       "21      0               1             ...   1               0            \n",
       "22      0               0             ...   1               0            \n",
       "23      0               0             ...   0               0            \n",
       "24     26              23             ...  45              51            \n",
       "25      0               0             ...   1               0            \n",
       "26      0               1             ...   0               1            \n",
       "27      0               0             ...   0               0            \n",
       "28      1               1             ...   0               1            \n",
       "29      0               0             ...   0               0            \n",
       "30      4               5             ...   0               2            \n",
       "...   ...             ...                 ...             ...            \n",
       "56171      0                3         ...       0               1        \n",
       "56172      0                0         ...       0               1        \n",
       "56173 318223           599132         ...  342909          342588        \n",
       "56174      0                2         ...       0               0        \n",
       "56175      0                3         ...       0               2        \n",
       "56176      0                5         ...       2               4        \n",
       "56177      2               18         ...       7               3        \n",
       "56178      1               34         ...      12              14        \n",
       "56179 333457          2071764         ... 1371590         1018399        \n",
       "56180     52              363         ...     178             154        \n",
       "56181      0                1         ...       0               0        \n",
       "56182 308337           672854         ...  475772          401816        \n",
       "56183      0                0         ...       0               0        \n",
       "56184  52331           116008         ...   76776           44564        \n",
       "56185 295541           691713         ...  441574          305014        \n",
       "56186 410575           846938         ...  523329          437792        \n",
       "56187      0                1         ...       0               0        \n",
       "56188  80571           177988         ...  110136           79892        \n",
       "56189      0                0         ...       0               0        \n",
       "56190  63163           145654         ...  119175           89497        \n",
       "56191 677624          1543481         ... 1117312          718444        \n",
       "56192      1                0         ...       0               1        \n",
       "56193      0                1         ...       0               1        \n",
       "56194      0                2         ...       1               0        \n",
       "56195  89866           880636         ...  320837          153948        \n",
       "56196  19391           408439         ...   96241           39072        \n",
       "56197      2              235         ...      52              14        \n",
       "56198 405076           902290         ...  555512          479251        \n",
       "56199      2                3         ...       0               1        \n",
       "56200      0                3         ...       0               5        \n",
       "      GTEX-1QW4Y-0226 GTEX-1R9JW-0226 GTEX-1R9PM-0226 GTEX-1RAZA-0826\n",
       "1       0               0               0               0            \n",
       "2     124              74             191             251            \n",
       "3       0               0               1               1            \n",
       "4       0               0               0               0            \n",
       "5       0               1               0               0            \n",
       "6       0               1               0               0            \n",
       "7       0               0               0               1            \n",
       "8       0               1               0               1            \n",
       "9       2               0               4               0            \n",
       "10     12              13               0               2            \n",
       "11    154             130              47              41            \n",
       "12    120             132              25              27            \n",
       "13      4               3               2               0            \n",
       "14      7               2              41              14            \n",
       "15      0               0               0               0            \n",
       "16      0               0               0               0            \n",
       "17      0               6               2               0            \n",
       "18    422             336             288             366            \n",
       "19      0               0               0               0            \n",
       "20     51              35              33              63            \n",
       "21      0               1               0               0            \n",
       "22      0               0               0               0            \n",
       "23      0               1               0               1            \n",
       "24     57              12              22              24            \n",
       "25      0               0               0               0            \n",
       "26      0               0               0               2            \n",
       "27      0               0               0               0            \n",
       "28      0               0               0               0            \n",
       "29      0               0               0               0            \n",
       "30      3               3               3               4            \n",
       "...   ...             ...             ...             ...            \n",
       "56171       0              0               0                0        \n",
       "56172       0              0               1                0        \n",
       "56173  296893         167317          224433           418134        \n",
       "56174       0              0               0                0        \n",
       "56175       1              2               0                2        \n",
       "56176       0              1               0                0        \n",
       "56177       0              2               0                2        \n",
       "56178       8              6               0               14        \n",
       "56179 1065153         627549          221552          1936442        \n",
       "56180     180             68              52              364        \n",
       "56181       1              0               0                1        \n",
       "56182  388916         277713          224847           639165        \n",
       "56183       0              0               0                0        \n",
       "56184   45398          44192           33287            90011        \n",
       "56185  296653         237523          192205           547485        \n",
       "56186  445485         375730          298548           876664        \n",
       "56187       1              0               0                0        \n",
       "56188   89577          69190           67948            93723        \n",
       "56189       2              0               1                0        \n",
       "56190   88976          62730           47980           152735        \n",
       "56191  768162         603633          462358          1205273        \n",
       "56192       2              1               0                0        \n",
       "56193       0              1               1                0        \n",
       "56194       0              0               0                0        \n",
       "56195  114440          92101           53352           154881        \n",
       "56196   20673          19128            8065            29292        \n",
       "56197       2              5               2               14        \n",
       "56198  423009         343343          262085           569778        \n",
       "56199       0              0               0                0        \n",
       "56200       3              1               0                0        \n",
       "      GTEX-1RAZQ-0926 GTEX-1RAZR-1126 GTEX-1S5ZU-0726 GTEX-1S83E-0726\n",
       "1       1               0               1               1            \n",
       "2     246              91             169             162            \n",
       "3       0               0               0               0            \n",
       "4       0               0               0               1            \n",
       "5       0               0               0               0            \n",
       "6       1               0               1               1            \n",
       "7       0               1               1               1            \n",
       "8       2               7               3               1            \n",
       "9       0               0               1               0            \n",
       "10      8               7               6               0            \n",
       "11    227              79             119              74            \n",
       "12    212              37             122              49            \n",
       "13     11               1               0               0            \n",
       "14     35              18              66              79            \n",
       "15      0               0               0               0            \n",
       "16      0               0               0               0            \n",
       "17     12               1               0               0            \n",
       "18    267             235             240             454            \n",
       "19      0               0               0               0            \n",
       "20     37              45               4              87            \n",
       "21      0               1               0               1            \n",
       "22      0               0               0               0            \n",
       "23      0               0               0               1            \n",
       "24     31              18              19              28            \n",
       "25      0               0               1               0            \n",
       "26      0               0               0               1            \n",
       "27      0               1               0               0            \n",
       "28      0               0               1               2            \n",
       "29      0               0               0               0            \n",
       "30      2               2               3               4            \n",
       "...   ...             ...             ...             ...            \n",
       "56171       0              0               1                0        \n",
       "56172       0              2               1                3        \n",
       "56173  337513         197131          205952           305525        \n",
       "56174       0              0               0                1        \n",
       "56175       0              1               1                1        \n",
       "56176       1              1               3                1        \n",
       "56177       1              0               0                0        \n",
       "56178       3              3               1               11        \n",
       "56179  897596         604216          176939          1133840        \n",
       "56180     145            109              26              171        \n",
       "56181       0              0               0                0        \n",
       "56182  501275         218974          189448           455605        \n",
       "56183       0              0               0                0        \n",
       "56184   68997          28813           34534            66682        \n",
       "56185  408524         193758          223748           414442        \n",
       "56186  763355         383846          371445           572142        \n",
       "56187       0              1               1                0        \n",
       "56188   82945          71226           61179           110873        \n",
       "56189       1              0               0                1        \n",
       "56190  144592          64815           38385           118872        \n",
       "56191 1140364         552971          333815           906493        \n",
       "56192       1              0               1                1        \n",
       "56193       0              0               0                1        \n",
       "56194       1              1               0                0        \n",
       "56195  110403          67831           61347           140760        \n",
       "56196   16748          10482            9674            28098        \n",
       "56197       7              2               2                3        \n",
       "56198  540130         296838          327840           467181        \n",
       "56199       0              1               0                0        \n",
       "56200       1              1               0                1        "
      ]
     },
     "metadata": {},
     "output_type": "display_data"
    },
    {
     "name": "stderr",
     "output_type": "stream",
     "text": [
      "Warning message:\n",
      "\"Computation failed in `stat_binhex()`:\n",
      "\"\n"
     ]
    },
    {
     "data": {
      "image/png": "[encoded data removed]",
      "text/plain": [
       "plot without title"
      ]
     },
     "metadata": {
      "image/png": {
       "height": 420,
       "width": 420
      }
     },
     "output_type": "display_data"
    }
   ],
   "source": [
    "#par comparaison, faisons la même chose avec les rna counts\n",
    "rna =  read_tsv(\"RNA-read-counts.tsv\")\n",
    "rna\n",
    "meanSdPlot(t(data.matrix(rna)), ranks=FALSE)\n"
   ]
  },
  {
   "cell_type": "code",
   "execution_count": 72,
   "metadata": {
    "collapsed": true
   },
   "outputs": [
    {
     "data": {
      "text/html": [
       "0.795627864055628"
      ],
      "text/latex": [
       "0.795627864055628"
      ],
      "text/markdown": [
       "0.795627864055628"
      ],
      "text/plain": [
       "[1] 0.7956279"
      ]
     },
     "metadata": {},
     "output_type": "display_data"
    },
    {
     "data": {
      "image/png": "[encoded data removed]",
      "text/plain": [
       "plot without title"
      ]
     },
     "metadata": {
      "image/png": {
       "height": 420,
       "width": 420
      }
     },
     "output_type": "display_data"
    }
   ],
   "source": [
    "mrna <- rna[,3:65]\n",
    "means <- colMeans(mrna)\n",
    "sdev <- sapply(mrna, sd)\n",
    "\n",
    "plot(means, sdev)\n",
    "cor(means, sdev)\n",
    "\n",
    "#on voit que la corrélation est beaucoup plus élevée"
   ]
  },
  {
   "cell_type": "markdown",
   "metadata": {},
   "source": [
    "### Sample distances"
   ]
  },
  {
   "cell_type": "code",
   "execution_count": 88,
   "metadata": {},
   "outputs": [
    {
     "ename": "ERROR",
     "evalue": "Error in `rownames<-`(`*tmp*`, value = colnames(countData)): tentative de modification de 'rownames' sur un objet sans dimensions\n",
     "output_type": "error",
     "traceback": [
      "Error in `rownames<-`(`*tmp*`, value = colnames(countData)): tentative de modification de 'rownames' sur un objet sans dimensions\nTraceback:\n",
      "1. DESeqDataSetFromMatrix(data.matrix(mc), colData = colnames(mc))",
      "2. `rownames<-`(`*tmp*`, value = colnames(countData))",
      "3. `rownames<-`(`*tmp*`, value = colnames(countData))",
      "4. stop(\"attempt to set 'rownames' on an object with no dimensions\")"
     ]
    }
   ],
   "source": [
    "dds = DESeqDataSetFromMatrix(data.matrix(mc),colData=colnames(mc))\n"
   ]
  },
  {
   "cell_type": "code",
   "execution_count": 97,
   "metadata": {},
   "outputs": [
    {
     "ename": "ERROR",
     "evalue": "Error in samples$run: objet de type 'closure' non indiçable\n",
     "output_type": "error",
     "traceback": [
      "Error in samples$run: objet de type 'closure' non indiçable\nTraceback:\n",
      "1. file.path(dir, \"salmon\", samples$run, \"quant.sf.gz\")"
     ]
    }
   ],
   "source": [
    "files <- file.path(dir,\"salmon\", samples$run, \"quant.sf.gz\")\n",
    "names(files) <- samples$run\n",
    "tx2gene <- read_csv(file.path(dir, \"tx2gene.gencode.v27.csv\"))\n",
    "\n",
    "txi <- tximport(files, type=\"salmon\", tx2gene=tx2gene)\n",
    "\n",
    "library(\"DESeq2\")\n",
    "ddsTxi <- DESeqDataSetFromTximport(txi,\n",
    "                                   colData = samples,\n",
    "                                   design = ~ condition)"
   ]
  },
  {
   "cell_type": "code",
   "execution_count": 99,
   "metadata": {},
   "outputs": [
    {
     "ename": "ERROR",
     "evalue": "Error in library(\"tximeta\"): aucun package nommé 'tximeta' n'est trouvé\n",
     "output_type": "error",
     "traceback": [
      "Error in library(\"tximeta\"): aucun package nommé 'tximeta' n'est trouvé\nTraceback:\n",
      "1. library(\"tximeta\")"
     ]
    }
   ],
   "source": [
    "library(\"tximeta\")\n",
    "se <- tximeta(coldata)"
   ]
  }
 ],
 "metadata": {
  "kernelspec": {
   "display_name": "R",
   "language": "R",
   "name": "ir"
  },
  "language_info": {
   "codemirror_mode": "r",
   "file_extension": ".r",
   "mimetype": "text/x-r-source",
   "name": "R",
   "pygments_lexer": "r",
   "version": "4.1.3"
  }
 },
 "nbformat": 4,
 "nbformat_minor": 2
}
