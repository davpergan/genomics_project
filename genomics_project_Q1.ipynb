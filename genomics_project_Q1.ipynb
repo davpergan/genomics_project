{
 "cells": [
  {
   "cell_type": "markdown",
   "metadata": {},
   "source": [
    "# Question 1"
   ]
  },
  {
   "cell_type": "code",
   "execution_count": 1,
   "metadata": {
    "collapsed": true,
    "jupyter": {
     "outputs_hidden": true
    }
   },
   "outputs": [
    {
     "name": "stderr",
     "output_type": "stream",
     "text": [
      "Installation du package dans 'C:/Users/David/AppData/Roaming/SPB_Data/R/win-library/4.1'\n",
      "(car 'lib' n'est pas spécifié)\n",
      "\n"
     ]
    },
    {
     "name": "stdout",
     "output_type": "stream",
     "text": [
      "package 'readr' successfully unpacked and MD5 sums checked\n"
     ]
    },
    {
     "name": "stderr",
     "output_type": "stream",
     "text": [
      "Warning message:\n",
      "\"cannot remove prior installation of package 'readr'\"\n",
      "Warning message in file.copy(savedcopy, lib, recursive = TRUE):\n",
      "\"problème lors de la copie de C:\\Users\\David\\AppData\\Roaming\\SPB_Data\\R\\win-library\\4.1\\00LOCK\\readr\\libs\\x64\\readr.dll vers C:\\Users\\David\\AppData\\Roaming\\SPB_Data\\R\\win-library\\4.1\\readr\\libs\\x64\\readr.dll: Permission denied\"\n",
      "Warning message:\n",
      "\"restored 'readr'\"\n"
     ]
    },
    {
     "name": "stdout",
     "output_type": "stream",
     "text": [
      "\n",
      "The downloaded binary packages are in\n",
      "\tC:\\Users\\David\\AppData\\Local\\Temp\\RtmpeSf9HQ\\downloaded_packages\n"
     ]
    },
    {
     "name": "stderr",
     "output_type": "stream",
     "text": [
      "Skipping install of 'tigerstats' from a github remote, the SHA1 (17067f7e) has not changed since last install.\n",
      "  Use `force = TRUE` to force installation\n",
      "\n"
     ]
    }
   ],
   "source": [
    "install.packages(\"readr\")\n",
    "devtools::install_github(\"homerhanumat/tigerstats\",build_vignettes=TRUE)"
   ]
  },
  {
   "cell_type": "code",
   "execution_count": 73,
   "metadata": {},
   "outputs": [],
   "source": [
    "library(readr)\n",
    "library(tigerstats)\n",
    "library(ggplot2)\n",
    "library(gridExtra)"
   ]
  },
  {
   "cell_type": "code",
   "execution_count": 3,
   "metadata": {
    "collapsed": true,
    "jupyter": {
     "outputs_hidden": true
    }
   },
   "outputs": [
    {
     "name": "stderr",
     "output_type": "stream",
     "text": [
      "\u001b[1mRows: \u001b[22m\u001b[34m136\u001b[39m \u001b[1mColumns: \u001b[22m\u001b[34m12\u001b[39m\n",
      "\u001b[36m--\u001b[39m \u001b[1mColumn specification\u001b[22m \u001b[36m------------------------------------------------------------------------------------------------\u001b[39m\n",
      "\u001b[1mDelimiter:\u001b[22m \"\\t\"\n",
      "\u001b[31mchr\u001b[39m (5): SMPLID, SMPTHNTS, COHORT, SUBJID, IMGURL\n",
      "\u001b[32mdbl\u001b[39m (7): SEX, AGE, HGHT, WGHT, BMI, TRISCHD, DTHHRDY\n",
      "\n",
      "\u001b[36mi\u001b[39m Use `spec()` to retrieve the full column specification for this data.\n",
      "\u001b[36mi\u001b[39m Specify the column types or set `show_col_types = FALSE` to quiet this message.\n"
     ]
    },
    {
     "data": {
      "text/plain": [
       "cols(\n",
       "  SMPLID = \u001b[31mcol_character()\u001b[39m,\n",
       "  SEX = \u001b[32mcol_double()\u001b[39m,\n",
       "  AGE = \u001b[32mcol_double()\u001b[39m,\n",
       "  HGHT = \u001b[32mcol_double()\u001b[39m,\n",
       "  WGHT = \u001b[32mcol_double()\u001b[39m,\n",
       "  BMI = \u001b[32mcol_double()\u001b[39m,\n",
       "  SMPTHNTS = \u001b[31mcol_character()\u001b[39m,\n",
       "  COHORT = \u001b[31mcol_character()\u001b[39m,\n",
       "  TRISCHD = \u001b[32mcol_double()\u001b[39m,\n",
       "  DTHHRDY = \u001b[32mcol_double()\u001b[39m,\n",
       "  SUBJID = \u001b[31mcol_character()\u001b[39m,\n",
       "  IMGURL = \u001b[31mcol_character()\u001b[39m\n",
       ")"
      ]
     },
     "metadata": {},
     "output_type": "display_data"
    },
    {
     "data": {
      "text/plain": [
       "    SMPLID               SEX            AGE             HGHT      \n",
       " Length:136         Min.   :1.00   Min.   :21.00   Min.   :58.00  \n",
       " Class :character   1st Qu.:1.00   1st Qu.:30.00   1st Qu.:66.00  \n",
       " Mode  :character   Median :1.00   Median :38.00   Median :68.00  \n",
       "                    Mean   :1.36   Mean   :37.53   Mean   :68.18  \n",
       "                    3rd Qu.:2.00   3rd Qu.:45.25   3rd Qu.:71.00  \n",
       "                    Max.   :2.00   Max.   :49.00   Max.   :76.00  \n",
       "      WGHT            BMI          SMPTHNTS            COHORT         \n",
       " Min.   : 92.0   Min.   :18.58   Length:136         Length:136        \n",
       " 1st Qu.:159.8   1st Qu.:24.27   Class :character   Class :character  \n",
       " Median :184.8   Median :27.75   Mode  :character   Mode  :character  \n",
       " Mean   :182.9   Mean   :27.55                                        \n",
       " 3rd Qu.:205.2   3rd Qu.:31.07                                        \n",
       " Max.   :264.0   Max.   :34.86                                        \n",
       "    TRISCHD          DTHHRDY          SUBJID             IMGURL         \n",
       " Min.   :  15.0   Min.   :0.0000   Length:136         Length:136        \n",
       " 1st Qu.:  61.5   1st Qu.:0.0000   Class :character   Class :character  \n",
       " Median : 209.0   Median :0.0000   Mode  :character   Mode  :character  \n",
       " Mean   : 382.6   Mean   :0.5368                                        \n",
       " 3rd Qu.: 474.2   3rd Qu.:0.0000                                        \n",
       " Max.   :1641.0   Max.   :4.0000                                        "
      ]
     },
     "metadata": {},
     "output_type": "display_data"
    }
   ],
   "source": [
    "cd <- read_tsv(\"clinical-data.tsv\") \n",
    "spec(cd)\n",
    "summary(cd)\n"
   ]
  },
  {
   "cell_type": "markdown",
   "metadata": {},
   "source": [
    "## 1.1 : Distribution of the clinical variables\n",
    "\n",
    "### 1) Sex"
   ]
  },
  {
   "cell_type": "code",
   "execution_count": 32,
   "metadata": {},
   "outputs": [
    {
     "data": {
      "image/png": "[encoded data removed]",
      "text/plain": [
       "Plot with title \"sex\""
      ]
     },
     "metadata": {
      "image/png": {
       "height": 420,
       "width": 420
      }
     },
     "output_type": "display_data"
    }
   ],
   "source": [
    "barplot(prop.table(table(data.frame(cd$SEX))), main=\"sex\", names.arg=c(\"male\",\"female\"), ylim=c(0.0,0.7))"
   ]
  },
  {
   "cell_type": "markdown",
   "metadata": {},
   "source": [
    "### 2) Age"
   ]
  },
  {
   "cell_type": "code",
   "execution_count": 16,
   "metadata": {},
   "outputs": [
    {
     "name": "stdout",
     "output_type": "stream",
     "text": [
      " min Q1 median    Q3 max     mean       sd   n missing\n",
      "  21 30     38 45.25  49 37.52941 8.611741 136       0\n"
     ]
    },
    {
     "data": {
      "image/png": "[encoded data removed]",
      "text/plain": [
       "plot without title"
      ]
     },
     "metadata": {
      "image/png": {
       "height": 420,
       "width": 420
      }
     },
     "output_type": "display_data"
    }
   ],
   "source": [
    "histogram(data.frame(cd$AGE)[,1],main=\"Histogramme des ages\\n (par tranches de 5 ans)\", xlab=\"age\",breaks=6)\n",
    "print(favstats(data.frame(cd$AGE)[,1]))"
   ]
  },
  {
   "cell_type": "markdown",
   "metadata": {},
   "source": [
    "### 3) Tailles"
   ]
  },
  {
   "cell_type": "code",
   "execution_count": 15,
   "metadata": {},
   "outputs": [
    {
     "name": "stdout",
     "output_type": "stream",
     "text": [
      " min Q1 median Q3 max     mean      sd   n missing\n",
      "  58 66     68 71  76 68.18478 3.89909 136       0\n"
     ]
    },
    {
     "data": {
      "image/png": "[encoded data removed]",
      "text/plain": [
       "plot without title"
      ]
     },
     "metadata": {
      "image/png": {
       "height": 420,
       "width": 420
      }
     },
     "output_type": "display_data"
    }
   ],
   "source": [
    "histogram(data.frame(cd$HGHT)[,1],main=\"Histogramme des tailles\\n (inches)\", xlab=\"tailles\",breaks=6)\n",
    "print(favstats(data.frame(cd$HGHT)[,1]))"
   ]
  },
  {
   "cell_type": "markdown",
   "metadata": {},
   "source": [
    "### 4) Poids"
   ]
  },
  {
   "cell_type": "code",
   "execution_count": 19,
   "metadata": {},
   "outputs": [
    {
     "name": "stdout",
     "output_type": "stream",
     "text": [
      " min     Q1 median     Q3 max     mean       sd   n missing\n",
      "  92 159.75  184.8 205.25 264 182.9454 33.58838 136       0\n"
     ]
    },
    {
     "data": {
      "image/png": "[encoded data removed]",
      "text/plain": [
       "plot without title"
      ]
     },
     "metadata": {
      "image/png": {
       "height": 420,
       "width": 420
      }
     },
     "output_type": "display_data"
    }
   ],
   "source": [
    "histogram(data.frame(cd$WGHT)[,1],main=\"Histogramme des poids\\n (pounds) \", xlab=\"poids\", breaks=7)\n",
    "print(favstats(data.frame(cd$WGHT)[,1]))"
   ]
  },
  {
   "cell_type": "markdown",
   "metadata": {},
   "source": [
    "### 5) Indice de masse corporelle"
   ]
  },
  {
   "cell_type": "code",
   "execution_count": 27,
   "metadata": {},
   "outputs": [
    {
     "name": "stdout",
     "output_type": "stream",
     "text": [
      "   min      Q1 median      Q3   max     mean       sd   n missing\n",
      " 18.58 24.2675  27.75 31.0725 34.86 27.55471 3.925531 136       0\n"
     ]
    },
    {
     "data": {
      "image/png": "[encoded data removed]",
      "text/plain": [
       "plot without title"
      ]
     },
     "metadata": {
      "image/png": {
       "height": 420,
       "width": 420
      }
     },
     "output_type": "display_data"
    }
   ],
   "source": [
    "histogram(data.frame(cd$BMI)[,1],main=\"Histogramme des indices \\n de masse corporelle \", xlab=\"bmi\", breaks=6)\n",
    "print(favstats(data.frame(cd$BMI)[,1]))"
   ]
  },
  {
   "cell_type": "markdown",
   "metadata": {},
   "source": [
    "### 6) Cohorte"
   ]
  },
  {
   "cell_type": "code",
   "execution_count": 31,
   "metadata": {},
   "outputs": [
    {
     "data": {
      "image/png": "[encoded data removed]",
      "text/plain": [
       "Plot with title \"cohort\""
      ]
     },
     "metadata": {
      "image/png": {
       "height": 420,
       "width": 420
      }
     },
     "output_type": "display_data"
    }
   ],
   "source": [
    "barplot(prop.table(table(data.frame(cd$COHORT))), main=\"cohort\", ylim=c(0.0,0.8))"
   ]
  },
  {
   "cell_type": "markdown",
   "metadata": {},
   "source": [
    "### 7) Temps ischémique"
   ]
  },
  {
   "cell_type": "code",
   "execution_count": 42,
   "metadata": {},
   "outputs": [
    {
     "name": "stdout",
     "output_type": "stream",
     "text": [
      " min   Q1 median     Q3  max     mean      sd   n missing\n",
      "  15 61.5    209 474.25 1641 382.5588 411.018 136       0\n"
     ]
    },
    {
     "data": {
      "image/png": "[encoded data removed]",
      "text/plain": [
       "Plot with title \"Histogramme des \n",
       " temps ischémiques \""
      ]
     },
     "metadata": {
      "image/png": {
       "height": 420,
       "width": 420
      }
     },
     "output_type": "display_data"
    }
   ],
   "source": [
    "hist(data.frame(cd$TRISCHD)[,1],main=\"Histogramme des \\n temps ischémiques \", xlab=\"ischemic time (minutes)\", ylim=c(0,70))\n",
    "print(favstats(data.frame(cd$TRISCHD)[,1]))"
   ]
  },
  {
   "cell_type": "markdown",
   "metadata": {},
   "source": [
    "### 8) Echelle de Hardy"
   ]
  },
  {
   "cell_type": "code",
   "execution_count": 43,
   "metadata": {},
   "outputs": [
    {
     "data": {
      "image/png": "[encoded data removed]",
      "text/plain": [
       "Plot with title \"Echelle de Hardy\""
      ]
     },
     "metadata": {
      "image/png": {
       "height": 420,
       "width": 420
      }
     },
     "output_type": "display_data"
    }
   ],
   "source": [
    "barplot(prop.table(table(data.frame(cd$DTHHRDY))), main=\"Echelle de Hardy\", ylim=c(0.0,0.8))"
   ]
  },
  {
   "cell_type": "markdown",
   "metadata": {},
   "source": [
    "## 1.2 : Correlation between variables"
   ]
  },
  {
   "cell_type": "markdown",
   "metadata": {},
   "source": [
    "### Liaisons entre les variables \"démographiques\"\n",
    "#### Sexe = variable catégorielle --> comparaison visuelle avec boxplot "
   ]
  },
  {
   "cell_type": "code",
   "execution_count": 77,
   "metadata": {},
   "outputs": [
    {
     "data": {
      "image/png": "[encoded data removed]",
      "text/plain": [
       "plot without title"
      ]
     },
     "metadata": {
      "image/png": {
       "height": 420,
       "width": 420
      }
     },
     "output_type": "display_data"
    }
   ],
   "source": [
    "\n",
    "\n",
    "# Boxplots avec les différentes variables en fct de sex\n",
    "p1 <- ggplot(cd,aes(x=as.factor(SEX), y=AGE)) + \n",
    "    geom_boxplot(fill=\"slateblue\", alpha=0.2) + ggtitle(\"Age\") + \n",
    "    xlab(\"Sex\")\n",
    "p2 <- ggplot(cd,aes(x=as.factor(SEX), y=HGHT)) + \n",
    "    geom_boxplot(fill=\"slateblue\", alpha=0.2) + \n",
    "    xlab(\"Sex\") + ggtitle(\"Taille\")\n",
    "\n",
    "p3 <- ggplot(cd,aes(x=as.factor(SEX), y=WGHT)) + \n",
    "    geom_boxplot(fill=\"slateblue\", alpha=0.2) + \n",
    "    xlab(\"Sex\") + ggtitle(\"Poids\")\n",
    "p4 <- ggplot(cd,aes(x=as.factor(SEX), y=BMI)) + \n",
    "    geom_boxplot(fill=\"slateblue\", alpha=0.2) + \n",
    "    xlab(\"Sex\") + ggtitle(\"BMI\")\n",
    "\n",
    "grid.arrange(p1,p2,p3,p4, ncol=2)"
   ]
  },
  {
   "cell_type": "markdown",
   "metadata": {},
   "source": [
    "#### Vérification avec tests de Mann-Whitney"
   ]
  },
  {
   "cell_type": "code",
   "execution_count": 96,
   "metadata": {},
   "outputs": [
    {
     "name": "stdout",
     "output_type": "stream",
     "text": [
      "[1] \"p-value for age :  0.131321452047474\"\n",
      "[1] \"p-value for hght :  3.51914176038072e-16\"\n",
      "[1] \"p-value for wght :  1.48960430486491e-07\"\n",
      "[1] \"p-value for bmi :  0.377965307143104\"\n"
     ]
    }
   ],
   "source": [
    "# 2 nouveaux dataframes : hommes et femmes\n",
    "hommes <- filter(cd, SEX == 1)\n",
    "femmes <- filter(cd, SEX == 2)\n",
    "\n",
    "#unpaired two-samples Wilcoxon test =  Wilcoxon rank sum test = Mann-Whitney test\n",
    "# Calcul des tests de Mann-Whitney pour les différentes variables :\n",
    "\n",
    "w_age <- wilcox.test(hommes$AGE, femmes$AGE)$p.value\n",
    "w_hght <- wilcox.test(hommes$HGHT, femmes$HGHT)$p.value\n",
    "w_wght <- wilcox.test(hommes$WGHT, femmes$WGHT)$p.value\n",
    "w_bmi <- wilcox.test(hommes$BMI, femmes$BMI)$p.value\n",
    "\n",
    "print(paste('p-value for age : ', toString(w_age)))\n",
    "print(paste('p-value for hght : ', toString(w_hght)))\n",
    "print(paste('p-value for wght : ', toString(w_wght)))\n",
    "print(paste('p-value for bmi : ', toString(w_bmi)))\n",
    "\n",
    "\n",
    "## On constate que les variables du poids et de la taille ne sont clairement pas indépendante du sexe, mais on ne peut pas \n",
    "## tirer cette conclusion pour l'age et l'indice de masse corporelle, ce qui correspond à ce qu'on observait sur les boxplots"
   ]
  },
  {
   "cell_type": "code",
   "execution_count": null,
   "metadata": {},
   "outputs": [],
   "source": []
  }
 ],
 "metadata": {
  "kernelspec": {
   "display_name": "R",
   "language": "R",
   "name": "ir"
  },
  "language_info": {
   "codemirror_mode": "r",
   "file_extension": ".r",
   "mimetype": "text/x-r-source",
   "name": "R",
   "pygments_lexer": "r",
   "version": "4.1.3"
  }
 },
 "nbformat": 4,
 "nbformat_minor": 4
}
